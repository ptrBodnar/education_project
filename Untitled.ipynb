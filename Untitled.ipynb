{
 "cells": [
  {
   "cell_type": "code",
   "execution_count": 5,
   "metadata": {
    "ExecuteTime": {
     "end_time": "2021-03-14T21:22:56.297815Z",
     "start_time": "2021-03-14T21:22:56.294036Z"
    }
   },
   "outputs": [],
   "source": [
    "import pandas as pd\n",
    "import json"
   ]
  },
  {
   "cell_type": "code",
   "execution_count": 2,
   "metadata": {
    "ExecuteTime": {
     "end_time": "2021-03-14T20:23:00.259561Z",
     "start_time": "2021-03-14T20:23:00.138206Z"
    }
   },
   "outputs": [
    {
     "name": "stdout",
     "output_type": "stream",
     "text": [
      "hrom_budget.json  schools.xlsx\tstats_schools.xlsx  Untitled.ipynb\r\n"
     ]
    }
   ],
   "source": [
    "! ls"
   ]
  },
  {
   "cell_type": "code",
   "execution_count": 8,
   "metadata": {
    "ExecuteTime": {
     "end_time": "2021-03-14T20:24:23.217526Z",
     "start_time": "2021-03-14T20:24:23.165340Z"
    }
   },
   "outputs": [],
   "source": [
    "stats_schools = pd.read_excel(\"stats_schools.xlsx\")\n",
    "schools = pd.read_excel(\"schools.xlsx\")"
   ]
  },
  {
   "cell_type": "code",
   "execution_count": 12,
   "metadata": {
    "ExecuteTime": {
     "end_time": "2021-03-14T20:24:50.841243Z",
     "start_time": "2021-03-14T20:24:50.833794Z"
    }
   },
   "outputs": [
    {
     "data": {
      "text/plain": [
       "Index(['registration_code', 'school_short_name', 'school_full_name',\n",
       "       'school_old_name', 'district', 'education_office', 'post_adress',\n",
       "       'places_amount', 'pupils', 'staf'],\n",
       "      dtype='object')"
      ]
     },
     "execution_count": 12,
     "metadata": {},
     "output_type": "execute_result"
    }
   ],
   "source": [
    "stats_schools.columns"
   ]
  },
  {
   "cell_type": "code",
   "execution_count": 15,
   "metadata": {
    "ExecuteTime": {
     "end_time": "2021-03-14T20:25:27.692563Z",
     "start_time": "2021-03-14T20:25:27.680327Z"
    }
   },
   "outputs": [],
   "source": [
    "schools_full = pd.merge(schools, stats_schools[['registration_code', 'places_amount', 'pupils', 'staf']], on='registration_code')"
   ]
  },
  {
   "cell_type": "code",
   "execution_count": 20,
   "metadata": {
    "ExecuteTime": {
     "end_time": "2021-03-14T20:27:02.746217Z",
     "start_time": "2021-03-14T20:27:02.740073Z"
    }
   },
   "outputs": [],
   "source": [
    "schools_full['students_per_teacher'] = schools_full.pupils/schools_full.staf"
   ]
  },
  {
   "cell_type": "code",
   "execution_count": 22,
   "metadata": {
    "ExecuteTime": {
     "end_time": "2021-03-14T20:27:16.533378Z",
     "start_time": "2021-03-14T20:27:16.525048Z"
    }
   },
   "outputs": [],
   "source": [
    "schools_full.to_csv(\"schools_full_lviv.csv\", index=False)"
   ]
  },
  {
   "cell_type": "code",
   "execution_count": 28,
   "metadata": {
    "ExecuteTime": {
     "end_time": "2021-03-14T20:33:03.275121Z",
     "start_time": "2021-03-14T20:33:03.269080Z"
    }
   },
   "outputs": [],
   "source": [
    "import json"
   ]
  },
  {
   "cell_type": "code",
   "execution_count": 29,
   "metadata": {
    "ExecuteTime": {
     "end_time": "2021-03-14T20:33:03.483541Z",
     "start_time": "2021-03-14T20:33:03.466608Z"
    }
   },
   "outputs": [],
   "source": [
    "json_data = json.load(open(\"hrom_budget.json\"))"
   ]
  },
  {
   "cell_type": "code",
   "execution_count": 32,
   "metadata": {
    "ExecuteTime": {
     "end_time": "2021-03-14T20:35:55.904634Z",
     "start_time": "2021-03-14T20:35:55.896588Z"
    }
   },
   "outputs": [
    {
     "data": {
      "text/plain": [
       "{'type': 'Feature',\n",
       " 'properties': {},\n",
       " 'geometry': {'type': 'Point',\n",
       "  'coordinates': [30.761718749999996, 54.265224078605684]}}"
      ]
     },
     "execution_count": 32,
     "metadata": {},
     "output_type": "execute_result"
    }
   ],
   "source": [
    "{\n",
    "      \"type\": \"Feature\",\n",
    "      \"properties\": {},\n",
    "      \"geometry\": {\n",
    "        \"type\": \"Point\",\n",
    "        \"coordinates\": [\n",
    "          30.761718749999996,\n",
    "          54.265224078605684\n",
    "        ]\n",
    "      }\n",
    "    }"
   ]
  },
  {
   "cell_type": "code",
   "execution_count": 38,
   "metadata": {
    "ExecuteTime": {
     "end_time": "2021-03-14T20:39:32.514227Z",
     "start_time": "2021-03-14T20:39:32.507622Z"
    }
   },
   "outputs": [
    {
     "data": {
      "text/plain": [
       "{'postcode': '79059',\n",
       " 'apartment': None,\n",
       " 'street': 'вул. Пилипа Орлика',\n",
       " 'building': '4',\n",
       " 'district': None,\n",
       " 'city': 'Львів',\n",
       " 'state': 'Львівська область',\n",
       " 'country': 'Україна',\n",
       " 'country_code': 'ua',\n",
       " 'lat': 49.873938,\n",
       " 'lon': 24.034988}"
      ]
     },
     "execution_count": 38,
     "metadata": {},
     "output_type": "execute_result"
    }
   ],
   "source": [
    "json_data[0]['address'].lart"
   ]
  },
  {
   "cell_type": "code",
   "execution_count": 116,
   "metadata": {
    "ExecuteTime": {
     "end_time": "2021-03-14T21:04:57.808757Z",
     "start_time": "2021-03-14T21:04:57.791891Z"
    }
   },
   "outputs": [
    {
     "name": "stdout",
     "output_type": "stream",
     "text": [
      "0\n",
      "1\n",
      "2\n",
      "3\n",
      "4\n",
      "5\n",
      "6\n",
      "7\n",
      "8\n",
      "9\n",
      "10\n",
      "11\n",
      "12\n",
      "13\n",
      "14\n",
      "15\n",
      "16\n",
      "17\n",
      "18\n",
      "19\n",
      "20\n",
      "21\n",
      "22\n",
      "23\n",
      "24\n",
      "25\n",
      "26\n",
      "27\n",
      "28\n",
      "29\n",
      "30\n",
      "31\n",
      "32\n",
      "33\n",
      "34\n",
      "35\n",
      "36\n",
      "37\n",
      "38\n",
      "39\n",
      "40\n",
      "41\n",
      "42\n",
      "43\n",
      "44\n",
      "45\n",
      "46\n",
      "47\n",
      "48\n",
      "49\n",
      "50\n",
      "51\n",
      "52\n",
      "53\n",
      "54\n",
      "55\n",
      "56\n",
      "57\n",
      "58\n",
      "59\n",
      "60\n",
      "61\n",
      "62\n",
      "63\n",
      "64\n",
      "65\n",
      "66\n",
      "67\n",
      "68\n",
      "69\n",
      "70\n",
      "71\n",
      "72\n",
      "73\n",
      "74\n",
      "75\n",
      "76\n",
      "77\n",
      "78\n",
      "79\n",
      "80\n",
      "81\n",
      "82\n",
      "83\n",
      "84\n",
      "85\n",
      "86\n",
      "87\n",
      "88\n",
      "89\n",
      "90\n",
      "91\n",
      "92\n",
      "93\n",
      "94\n",
      "95\n",
      "96\n",
      "97\n",
      "98\n",
      "99\n",
      "100\n",
      "101\n",
      "102\n",
      "103\n",
      "104\n",
      "105\n",
      "106\n",
      "107\n",
      "108\n",
      "109\n",
      "110\n",
      "111\n",
      "112\n",
      "113\n",
      "114\n",
      "115\n",
      "116\n",
      "117\n",
      "118\n",
      "119\n",
      "120\n",
      "121\n",
      "122\n",
      "123\n",
      "124\n",
      "125\n",
      "126\n",
      "127\n",
      "128\n",
      "129\n",
      "130\n",
      "131\n",
      "132\n",
      "133\n",
      "134\n",
      "135\n",
      "136\n",
      "137\n",
      "138\n",
      "139\n",
      "140\n",
      "141\n",
      "142\n",
      "143\n",
      "144\n",
      "145\n",
      "146\n",
      "147\n",
      "148\n",
      "149\n",
      "150\n",
      "151\n",
      "152\n",
      "153\n",
      "154\n",
      "155\n",
      "156\n",
      "157\n",
      "158\n",
      "159\n",
      "160\n",
      "161\n",
      "162\n",
      "163\n",
      "164\n",
      "165\n",
      "166\n",
      "167\n",
      "168\n",
      "169\n",
      "170\n",
      "171\n",
      "172\n",
      "173\n",
      "174\n",
      "175\n",
      "176\n",
      "177\n",
      "178\n",
      "179\n",
      "180\n",
      "181\n",
      "182\n",
      "183\n",
      "184\n",
      "185\n",
      "186\n",
      "187\n",
      "188\n",
      "189\n",
      "190\n",
      "191\n",
      "192\n",
      "193\n",
      "194\n",
      "195\n",
      "196\n",
      "197\n",
      "198\n",
      "199\n",
      "200\n",
      "201\n",
      "202\n",
      "203\n",
      "204\n",
      "205\n",
      "206\n",
      "207\n",
      "208\n",
      "209\n",
      "210\n",
      "211\n",
      "212\n",
      "213\n",
      "214\n",
      "215\n",
      "216\n",
      "217\n",
      "218\n",
      "219\n",
      "220\n",
      "221\n",
      "222\n",
      "223\n",
      "224\n",
      "225\n",
      "226\n",
      "227\n",
      "228\n",
      "229\n",
      "230\n",
      "231\n",
      "232\n",
      "233\n",
      "234\n",
      "235\n",
      "236\n",
      "237\n",
      "238\n",
      "239\n"
     ]
    }
   ],
   "source": [
    "geojson = []\n",
    "for i,d in enumerate(json_data):\n",
    "    print(i)\n",
    "    \n",
    "    if 'address' in d:\n",
    "        if d['address'] is not None:\n",
    "            if 'lon' in  d['address']:\n",
    "                lon = d['address']['lon']\n",
    "                lat = d['address']['lat']\n",
    "    \n",
    "    else:\n",
    "        lon = d['district']['address']['lon'],\n",
    "        lat = d['district']['address']['lat']\n",
    "    features = {\n",
    "      \"type\": \"Feature\",\n",
    "      \"properties\": {**d, \"category_name\": d['category']['name'],\n",
    " \"created_at_date\": d['created_at']['date'], \"votes\": d['votes']['value'], \"budget\": d['budget']['value']},\n",
    "      \"geometry\": {\n",
    "        \"type\": \"Point\",\n",
    "        \"coordinates\": [\n",
    "          lon,\n",
    "          lat\n",
    "        ]\n",
    "      }\n",
    "    }\n",
    "    \n",
    "    geojson.append(features)"
   ]
  },
  {
   "cell_type": "code",
   "execution_count": 117,
   "metadata": {
    "ExecuteTime": {
     "end_time": "2021-03-14T21:05:02.222769Z",
     "start_time": "2021-03-14T21:05:02.219158Z"
    }
   },
   "outputs": [],
   "source": [
    "feature_collextion = {\n",
    "  \"type\": \"FeatureCollection\",\n",
    "  \"features\": geojson\n",
    "}"
   ]
  },
  {
   "cell_type": "code",
   "execution_count": 118,
   "metadata": {
    "ExecuteTime": {
     "end_time": "2021-03-14T21:05:03.148901Z",
     "start_time": "2021-03-14T21:05:03.115722Z"
    }
   },
   "outputs": [],
   "source": [
    "with open('hrom_budget.geojson', 'w') as f:\n",
    "    json.dump(feature_collextion, f)"
   ]
  },
  {
   "cell_type": "code",
   "execution_count": 92,
   "metadata": {
    "ExecuteTime": {
     "end_time": "2021-03-14T20:51:47.902412Z",
     "start_time": "2021-03-14T20:51:47.896900Z"
    }
   },
   "outputs": [],
   "source": [
    "hrom_budget = pd.DataFrame(geojson)"
   ]
  },
  {
   "cell_type": "code",
   "execution_count": 94,
   "metadata": {
    "ExecuteTime": {
     "end_time": "2021-03-14T20:53:33.014484Z",
     "start_time": "2021-03-14T20:53:33.000304Z"
    }
   },
   "outputs": [],
   "source": [
    "hrom_budget.to_json(\"hrom_budget.geojson\", orient='records')"
   ]
  },
  {
   "cell_type": "code",
   "execution_count": 2,
   "metadata": {
    "ExecuteTime": {
     "end_time": "2021-03-14T21:22:50.800348Z",
     "start_time": "2021-03-14T21:22:50.796963Z"
    }
   },
   "outputs": [],
   "source": [
    "population = \"https://www.drv.gov.ua/ords/portal/!cm_core.cm_index?option=ext_dvk&pid100=46&pgf7691=64097&prejim=1\""
   ]
  },
  {
   "cell_type": "code",
   "execution_count": 27,
   "metadata": {
    "ExecuteTime": {
     "end_time": "2021-03-14T21:27:32.325321Z",
     "start_time": "2021-03-14T21:27:30.648770Z"
    }
   },
   "outputs": [],
   "source": [
    "normal = pd.read_html(population)[0]\n",
    "special = pd.read_html(population)[1]\n",
    "\n",
    "names = [d[0] if d[0] == d[1] else d[0] + \" \" + d[1] for d in normal.columns ]\n"
   ]
  },
  {
   "cell_type": "code",
   "execution_count": 28,
   "metadata": {
    "ExecuteTime": {
     "end_time": "2021-03-14T21:27:39.238757Z",
     "start_time": "2021-03-14T21:27:39.234474Z"
    }
   },
   "outputs": [],
   "source": [
    "normal.columns = names\n",
    "special.columns = names"
   ]
  },
  {
   "cell_type": "code",
   "execution_count": 30,
   "metadata": {
    "ExecuteTime": {
     "end_time": "2021-03-14T21:28:17.753296Z",
     "start_time": "2021-03-14T21:28:17.747216Z"
    }
   },
   "outputs": [],
   "source": [
    "diln = pd.concat([normal, special])"
   ]
  },
  {
   "cell_type": "code",
   "execution_count": 31,
   "metadata": {
    "ExecuteTime": {
     "end_time": "2021-03-14T21:28:28.421188Z",
     "start_time": "2021-03-14T21:28:28.415752Z"
    }
   },
   "outputs": [],
   "source": [
    "diln['Номер дільниці'] = diln['Номер дільниці'].astype(str)"
   ]
  },
  {
   "cell_type": "code",
   "execution_count": 32,
   "metadata": {
    "ExecuteTime": {
     "end_time": "2021-03-14T21:28:32.943728Z",
     "start_time": "2021-03-14T21:28:32.929306Z"
    }
   },
   "outputs": [],
   "source": [
    "population_geojson = json.load(open(\"population.geojson\"))"
   ]
  },
  {
   "cell_type": "code",
   "execution_count": 41,
   "metadata": {
    "ExecuteTime": {
     "end_time": "2021-03-14T21:29:52.536839Z",
     "start_time": "2021-03-14T21:29:52.528728Z"
    }
   },
   "outputs": [
    {
     "data": {
      "text/plain": [
       "1139.0"
      ]
     },
     "execution_count": 41,
     "metadata": {},
     "output_type": "execute_result"
    }
   ],
   "source": [
    "diln.loc[diln['Номер дільниці'] == '460486']['Кількість виборців станом на 28.02.2021'].values[0]"
   ]
  },
  {
   "cell_type": "code",
   "execution_count": 43,
   "metadata": {
    "ExecuteTime": {
     "end_time": "2021-03-14T21:30:27.076151Z",
     "start_time": "2021-03-14T21:30:26.886717Z"
    }
   },
   "outputs": [
    {
     "name": "stdout",
     "output_type": "stream",
     "text": [
      "{'name': '462165', 'color': '#E31A1C', 'voters': 1212.0}\n",
      "{'name': '462166', 'color': '#FD8D3C', 'voters': 232.0}\n",
      "{'name': '462159', 'color': '#800026', 'voters': 1680.0}\n",
      "{'name': '461925', 'color': '#E31A1C', 'voters': 1046.0}\n",
      "{'name': '461927', 'color': '#E31A1C', 'voters': 1270.0}\n",
      "{'name': '461929', 'color': '#800026', 'voters': 2215.0}\n",
      "{'name': '461930', 'color': '#800026', 'voters': 2068.0}\n",
      "{'name': '461933', 'color': '#E31A1C', 'voters': 1321.0}\n",
      "{'name': '461934', 'color': '#800026', 'voters': 1657.0}\n",
      "{'name': '461936', 'color': '#800026', 'voters': 1564.0}\n",
      "{'name': '461939', 'color': '#800026', 'voters': 2401.0}\n",
      "{'name': '461940', 'color': '#800026', 'voters': 1670.0}\n",
      "{'name': '461942', 'color': '#800026', 'voters': 2068.0}\n",
      "{'name': '461943', 'color': '#800026', 'voters': 1915.0}\n",
      "{'name': '461945', 'color': '#E31A1C', 'voters': 855.0}\n",
      "{'name': '461947', 'color': '#800026', 'voters': 1660.0}\n",
      "{'name': '461948', 'color': '#E31A1C', 'voters': 1428.0}\n",
      "{'name': '461950', 'color': '#E31A1C', 'voters': 1454.0}\n",
      "{'name': '461952', 'color': '#800026', 'voters': 1961.0}\n",
      "{'name': '461954', 'color': '#800026', 'voters': 1756.0}\n",
      "{'name': '461955', 'color': '#E31A1C', 'voters': 1491.0}\n",
      "{'name': '461957', 'color': '#800026', 'voters': 1837.0}\n",
      "{'name': '461958', 'color': '#E31A1C', 'voters': 1498.0}\n",
      "{'name': '461962', 'color': '#800026', 'voters': 2382.0}\n",
      "{'name': '461964', 'color': '#800026', 'voters': 1803.0}\n",
      "{'name': '461966', 'color': '#800026', 'voters': 2000.0}\n",
      "{'name': '461967', 'color': '#800026', 'voters': 1909.0}\n",
      "{'name': '461969', 'color': '#E31A1C', 'voters': 1434.0}\n",
      "{'name': '462038', 'color': '#800026', 'voters': 1972.0}\n",
      "{'name': '462040', 'color': '#800026', 'voters': 1819.0}\n",
      "{'name': '462041', 'color': '#800026', 'voters': 2292.0}\n",
      "{'name': '462044', 'color': '#800026', 'voters': 1840.0}\n",
      "{'name': '462046', 'color': '#800026', 'voters': 1842.0}\n",
      "{'name': '462048', 'color': '#800026', 'voters': 1532.0}\n",
      "{'name': '462050', 'color': '#800026', 'voters': 1951.0}\n",
      "{'name': '462158', 'color': '#E31A1C', 'voters': 1349.0}\n",
      "{'name': '460987', 'color': '#800026', 'voters': 1985.0}\n",
      "{'name': '461667', 'color': '#800026', 'voters': 2086.0}\n",
      "{'name': '462144', 'color': '#800026', 'voters': 2367.0}\n",
      "{'name': '462146', 'color': '#800026', 'voters': 2215.0}\n",
      "{'name': '462147', 'color': '#800026', 'voters': 1888.0}\n",
      "{'name': '461853', 'color': '#E31A1C', 'voters': 1489.0}\n",
      "{'name': '461855', 'color': '#800026', 'voters': 1975.0}\n",
      "{'name': '461856', 'color': '#800026', 'voters': 2134.0}\n",
      "{'name': '461858', 'color': '#E31A1C', 'voters': 1346.0}\n",
      "{'name': '461860', 'color': '#E31A1C', 'voters': 1355.0}\n",
      "{'name': '461861', 'color': '#E31A1C', 'voters': 1424.0}\n",
      "{'name': '461863', 'color': '#800026', 'voters': 1946.0}\n",
      "{'name': '461864', 'color': '#E31A1C', 'voters': 1401.0}\n",
      "{'name': '462149', 'color': '#800026', 'voters': 2018.0}\n",
      "{'name': '462152', 'color': '#E31A1C', 'voters': 730.0}\n",
      "{'name': '461977', 'color': '#800026', 'voters': 1892.0}\n",
      "{'name': '461978', 'color': '#800026', 'voters': 1822.0}\n",
      "{'name': '461980', 'color': '#800026', 'voters': 2431.0}\n",
      "{'name': '461982', 'color': '#800026', 'voters': 2170.0}\n",
      "{'name': '461983', 'color': '#800026', 'voters': 2127.0}\n",
      "{'name': '461865', 'color': '#800026', 'voters': 1605.0}\n",
      "{'name': '461866', 'color': '#800026', 'voters': 1942.0}\n",
      "{'name': '461868', 'color': '#800026', 'voters': 1758.0}\n",
      "{'name': '461869', 'color': '#800026', 'voters': 1896.0}\n",
      "{'name': '461871', 'color': '#E31A1C', 'voters': 1349.0}\n",
      "{'name': '461876', 'color': '#800026', 'voters': 2294.0}\n",
      "{'name': '461877', 'color': '#E31A1C', 'voters': 1387.0}\n",
      "{'name': '461984', 'color': '#800026', 'voters': 2341.0}\n",
      "{'name': '461986', 'color': '#800026', 'voters': 2005.0}\n",
      "{'name': '461987', 'color': '#E31A1C', 'voters': 1229.0}\n",
      "{'name': '461989', 'color': '#800026', 'voters': 1903.0}\n",
      "{'name': '461990', 'color': '#800026', 'voters': 1940.0}\n",
      "{'name': '461992', 'color': '#800026', 'voters': 2119.0}\n",
      "{'name': '461994', 'color': '#800026', 'voters': 1859.0}\n",
      "{'name': '461995', 'color': '#800026', 'voters': 1756.0}\n",
      "{'name': '461997', 'color': '#800026', 'voters': 2079.0}\n",
      "{'name': '461998', 'color': '#800026', 'voters': 2275.0}\n",
      "{'name': '462000', 'color': '#800026', 'voters': 1868.0}\n",
      "{'name': '462001', 'color': '#800026', 'voters': 2245.0}\n",
      "{'name': '461880', 'color': '#800026', 'voters': 1920.0}\n",
      "{'name': '461883', 'color': '#800026', 'voters': 2129.0}\n",
      "{'name': '461884', 'color': '#800026', 'voters': 2446.0}\n",
      "{'name': '461886', 'color': '#800026', 'voters': 2291.0}\n",
      "{'name': '461888', 'color': '#800026', 'voters': 2055.0}\n",
      "{'name': '461889', 'color': '#800026', 'voters': 2067.0}\n",
      "{'name': '461891', 'color': '#800026', 'voters': 1943.0}\n",
      "{'name': '461892', 'color': '#800026', 'voters': 1932.0}\n",
      "{'name': '461894', 'color': '#800026', 'voters': 2199.0}\n",
      "{'name': '462003', 'color': '#800026', 'voters': 2359.0}\n",
      "{'name': '462004', 'color': '#800026', 'voters': 2240.0}\n",
      "{'name': '462102', 'color': '#800026', 'voters': 1986.0}\n",
      "{'name': '462103', 'color': '#800026', 'voters': 2493.0}\n",
      "{'name': '462105', 'color': '#800026', 'voters': 2394.0}\n",
      "{'name': '462106', 'color': '#800026', 'voters': 2428.0}\n",
      "{'name': '462108', 'color': '#800026', 'voters': 2361.0}\n",
      "{'name': '462110', 'color': '#800026', 'voters': 2498.0}\n",
      "{'name': '462111', 'color': '#800026', 'voters': 2487.0}\n",
      "{'name': '462113', 'color': '#800026', 'voters': 2147.0}\n",
      "{'name': '462114', 'color': '#800026', 'voters': 2376.0}\n",
      "{'name': '462116', 'color': '#800026', 'voters': 2186.0}\n",
      "{'name': '462118', 'color': '#800026', 'voters': 2115.0}\n",
      "{'name': '462119', 'color': '#800026', 'voters': 2161.0}\n",
      "{'name': '462121', 'color': '#800026', 'voters': 2050.0}\n",
      "{'name': '462122', 'color': '#800026', 'voters': 2400.0}\n",
      "{'name': '462124', 'color': '#800026', 'voters': 2115.0}\n",
      "{'name': '462126', 'color': '#800026', 'voters': 1862.0}\n",
      "{'name': '462127', 'color': '#800026', 'voters': 2135.0}\n",
      "{'name': '462129', 'color': '#800026', 'voters': 2058.0}\n",
      "{'name': '462130', 'color': '#800026', 'voters': 2033.0}\n",
      "{'name': '462132', 'color': '#E31A1C', 'voters': 1006.0}\n",
      "{'name': '461849', 'color': '#800026', 'voters': 1998.0}\n",
      "{'name': '461850', 'color': '#E31A1C', 'voters': 1273.0}\n",
      "{'name': '461852', 'color': '#E31A1C', 'voters': 1272.0}\n",
      "{'name': '462133', 'color': '#E31A1C', 'voters': 1390.0}\n",
      "{'name': '462135', 'color': '#800026', 'voters': 2175.0}\n",
      "{'name': '462138', 'color': '#800026', 'voters': 2146.0}\n",
      "{'name': '462139', 'color': '#800026', 'voters': 1990.0}\n",
      "{'name': '462141', 'color': '#800026', 'voters': 1566.0}\n",
      "{'name': '462142', 'color': '#800026', 'voters': 2294.0}\n",
      "{'name': '462162', 'color': '#E31A1C', 'voters': 829.0}\n",
      "{'name': '460485', 'color': '#E31A1C', 'voters': 503.0}\n",
      "{'name': '460486', 'color': '#E31A1C', 'voters': 1139.0}\n",
      "{'name': '460487', 'color': '#FD8D3C', 'voters': 189.0}\n",
      "{'name': '460499', 'color': '#E31A1C', 'voters': 1254.0}\n",
      "{'name': '460500', 'color': '#FD8D3C', 'voters': 489.0}\n",
      "{'name': '460501', 'color': '#E31A1C', 'voters': 1333.0}\n",
      "{'name': '460502', 'color': '#800026', 'voters': 2153.0}\n",
      "{'name': '460503', 'color': '#E31A1C', 'voters': 610.0}\n",
      "{'name': '460504', 'color': '#800026', 'voters': 1884.0}\n",
      "{'name': '460505', 'color': '#E31A1C', 'voters': 1385.0}\n",
      "{'name': '460506', 'color': '#FD8D3C', 'voters': 273.0}\n",
      "{'name': '460507', 'color': '#E31A1C', 'voters': 541.0}\n",
      "{'name': '460508', 'color': '#E31A1C', 'voters': 1114.0}\n",
      "{'name': '460509', 'color': '#E31A1C', 'voters': 1180.0}\n",
      "{'name': '462069', 'color': '#800026', 'voters': 1971.0}\n",
      "{'name': '462070', 'color': '#800026', 'voters': 1744.0}\n",
      "{'name': '462071', 'color': '#800026', 'voters': 1716.0}\n",
      "{'name': '462072', 'color': '#800026', 'voters': 1891.0}\n",
      "{'name': '462073', 'color': '#800026', 'voters': 2359.0}\n",
      "{'name': '462074', 'color': '#800026', 'voters': 1612.0}\n",
      "{'name': '462075', 'color': '#800026', 'voters': 1929.0}\n",
      "{'name': '462076', 'color': '#800026', 'voters': 1689.0}\n",
      "{'name': '462077', 'color': '#800026', 'voters': 1953.0}\n",
      "{'name': '462078', 'color': '#800026', 'voters': 1941.0}\n",
      "{'name': '462079', 'color': '#E31A1C', 'voters': 1450.0}\n",
      "{'name': '462080', 'color': '#800026', 'voters': 2042.0}\n",
      "{'name': '462081', 'color': '#800026', 'voters': 1883.0}\n",
      "{'name': '462082', 'color': '#E31A1C', 'voters': 1446.0}\n",
      "{'name': '462083', 'color': '#800026', 'voters': 1904.0}\n",
      "{'name': '462084', 'color': '#E31A1C', 'voters': 1417.0}\n",
      "{'name': '462085', 'color': '#800026', 'voters': 1688.0}\n",
      "{'name': '462086', 'color': '#800026', 'voters': 1957.0}\n",
      "{'name': '462087', 'color': '#800026', 'voters': 2541.0}\n",
      "{'name': '462088', 'color': '#800026', 'voters': 2393.0}\n",
      "{'name': '462089', 'color': '#800026', 'voters': 2076.0}\n",
      "{'name': '462090', 'color': '#800026', 'voters': 2245.0}\n",
      "{'name': '462091', 'color': '#FD8D3C', 'voters': 380.0}\n",
      "{'name': '462093', 'color': '#FD8D3C', 'voters': 210.0}\n",
      "{'name': '462094', 'color': '#FD8D3C', 'voters': 945.0}\n",
      "{'name': '462156', 'color': '#800026', 'voters': 1663.0}\n",
      "{'name': '462153', 'color': '#E31A1C', 'voters': 1247.0}\n",
      "{'name': '462154', 'color': '#E31A1C', 'voters': 1296.0}\n",
      "{'name': '462095', 'color': '#800026', 'voters': 1848.0}\n",
      "{'name': '462096', 'color': '#800026', 'voters': 1977.0}\n",
      "{'name': '462097', 'color': '#800026', 'voters': 2293.0}\n",
      "{'name': '462098', 'color': '#800026', 'voters': 2172.0}\n",
      "{'name': '462099', 'color': '#800026', 'voters': 1604.0}\n",
      "{'name': '462100', 'color': '#800026', 'voters': 1882.0}\n",
      "{'name': '462101', 'color': '#E31A1C', 'voters': 1276.0}\n",
      "{'name': '462104', 'color': '#800026', 'voters': 2299.0}\n",
      "{'name': '462107', 'color': '#800026', 'voters': 2423.0}\n",
      "{'name': '462109', 'color': '#800026', 'voters': 2285.0}\n",
      "{'name': '462112', 'color': '#800026', 'voters': 2381.0}\n",
      "{'name': '462115', 'color': '#800026', 'voters': 2421.0}\n",
      "{'name': '462117', 'color': '#800026', 'voters': 2193.0}\n",
      "{'name': '462120', 'color': '#800026', 'voters': 2382.0}\n",
      "{'name': '462123', 'color': '#800026', 'voters': 2192.0}\n",
      "{'name': '462125', 'color': '#800026', 'voters': 2162.0}\n",
      "{'name': '462128', 'color': '#800026', 'voters': 2295.0}\n",
      "{'name': '462131', 'color': '#E31A1C', 'voters': 1420.0}\n",
      "{'name': '461848', 'color': '#800026', 'voters': 1921.0}\n",
      "{'name': '461851', 'color': '#800026', 'voters': 1535.0}\n",
      "{'name': '462134', 'color': '#800026', 'voters': 2515.0}\n",
      "{'name': '462136', 'color': '#800026', 'voters': 1779.0}\n",
      "{'name': '462140', 'color': '#800026', 'voters': 2302.0}\n",
      "{'name': '462143', 'color': '#800026', 'voters': 2221.0}\n",
      "{'name': '462145', 'color': '#800026', 'voters': 2139.0}\n",
      "{'name': '461854', 'color': '#800026', 'voters': 1911.0}\n",
      "{'name': '461857', 'color': '#800026', 'voters': 2082.0}\n",
      "{'name': '461859', 'color': '#E31A1C', 'voters': 812.0}\n",
      "{'name': '461862', 'color': '#800026', 'voters': 1594.0}\n",
      "{'name': '462148', 'color': '#800026', 'voters': 2050.0}\n",
      "{'name': '462150', 'color': '#800026', 'voters': 1914.0}\n",
      "{'name': '461976', 'color': '#800026', 'voters': 1997.0}\n",
      "{'name': '461979', 'color': '#800026', 'voters': 1638.0}\n",
      "{'name': '461981', 'color': '#E31A1C', 'voters': 1321.0}\n",
      "{'name': '461867', 'color': '#800026', 'voters': 1997.0}\n",
      "{'name': '461870', 'color': '#E31A1C', 'voters': 1260.0}\n",
      "{'name': '461878', 'color': '#800026', 'voters': 2254.0}\n",
      "{'name': '461985', 'color': '#800026', 'voters': 1589.0}\n",
      "{'name': '461988', 'color': '#800026', 'voters': 2001.0}\n",
      "{'name': '461991', 'color': '#800026', 'voters': 1711.0}\n",
      "{'name': '461993', 'color': '#800026', 'voters': 1643.0}\n",
      "{'name': '461996', 'color': '#800026', 'voters': 2094.0}\n",
      "{'name': '461999', 'color': '#800026', 'voters': 2036.0}\n",
      "{'name': '461879', 'color': '#800026', 'voters': 2337.0}\n",
      "{'name': '461882', 'color': '#800026', 'voters': 1938.0}\n",
      "{'name': '461885', 'color': '#800026', 'voters': 2269.0}\n",
      "{'name': '461887', 'color': '#800026', 'voters': 2134.0}\n",
      "{'name': '461890', 'color': '#800026', 'voters': 2168.0}\n",
      "{'name': '461893', 'color': '#800026', 'voters': 2097.0}\n",
      "{'name': '461895', 'color': '#800026', 'voters': 2151.0}\n",
      "{'name': '462005', 'color': '#800026', 'voters': 2172.0}\n",
      "{'name': '462006', 'color': '#800026', 'voters': 2035.0}\n",
      "{'name': '462007', 'color': '#800026', 'voters': 2066.0}\n",
      "{'name': '462008', 'color': '#800026', 'voters': 2001.0}\n",
      "{'name': '462009', 'color': '#800026', 'voters': 2337.0}\n",
      "{'name': '462010', 'color': '#800026', 'voters': 2504.0}\n",
      "{'name': '462011', 'color': '#800026', 'voters': 2457.0}\n",
      "{'name': '462012', 'color': '#800026', 'voters': 2223.0}\n",
      "{'name': '462013', 'color': '#800026', 'voters': 2068.0}\n",
      "{'name': '462014', 'color': '#E31A1C', 'voters': 1369.0}\n",
      "{'name': '462015', 'color': '#800026', 'voters': 2020.0}\n",
      "{'name': '462016', 'color': '#800026', 'voters': 1967.0}\n",
      "{'name': '462017', 'color': '#800026', 'voters': 2253.0}\n",
      "{'name': '462018', 'color': '#800026', 'voters': 2452.0}\n",
      "{'name': '462019', 'color': '#800026', 'voters': 2291.0}\n",
      "{'name': '462020', 'color': '#800026', 'voters': 1876.0}\n",
      "{'name': '462021', 'color': '#800026', 'voters': 1918.0}\n",
      "{'name': '461896', 'color': '#800026', 'voters': 2231.0}\n",
      "{'name': '461897', 'color': '#800026', 'voters': 1906.0}\n",
      "{'name': '461898', 'color': '#800026', 'voters': 2158.0}\n",
      "{'name': '461899', 'color': '#800026', 'voters': 2183.0}\n",
      "{'name': '461900', 'color': '#800026', 'voters': 2128.0}\n",
      "{'name': '461901', 'color': '#800026', 'voters': 2231.0}\n",
      "{'name': '461902', 'color': '#800026', 'voters': 2022.0}\n",
      "{'name': '461903', 'color': '#800026', 'voters': 2085.0}\n",
      "{'name': '461904', 'color': '#800026', 'voters': 2210.0}\n",
      "{'name': '461905', 'color': '#800026', 'voters': 2378.0}\n",
      "{'name': '461906', 'color': '#800026', 'voters': 2093.0}\n",
      "{'name': '461907', 'color': '#800026', 'voters': 2321.0}\n",
      "{'name': '461908', 'color': '#800026', 'voters': 2198.0}\n",
      "{'name': '461909', 'color': '#800026', 'voters': 1609.0}\n",
      "{'name': '461910', 'color': '#800026', 'voters': 1964.0}\n",
      "{'name': '462022', 'color': '#800026', 'voters': 2411.0}\n",
      "{'name': '462023', 'color': '#800026', 'voters': 2409.0}\n",
      "{'name': '462024', 'color': '#800026', 'voters': 2326.0}\n",
      "{'name': '462025', 'color': '#800026', 'voters': 2293.0}\n",
      "{'name': '462026', 'color': '#800026', 'voters': 2390.0}\n",
      "{'name': '462027', 'color': '#800026', 'voters': 2312.0}\n",
      "{'name': '462028', 'color': '#800026', 'voters': 2474.0}\n",
      "{'name': '462029', 'color': '#800026', 'voters': 2431.0}\n",
      "{'name': '462030', 'color': '#800026', 'voters': 2347.0}\n",
      "{'name': '461911', 'color': '#800026', 'voters': 2129.0}\n",
      "{'name': '461912', 'color': '#800026', 'voters': 2020.0}\n",
      "{'name': '461913', 'color': '#800026', 'voters': 2066.0}\n",
      "{'name': '461914', 'color': '#800026', 'voters': 2171.0}\n",
      "{'name': '461915', 'color': '#800026', 'voters': 1966.0}\n",
      "{'name': '461916', 'color': '#800026', 'voters': 2202.0}\n",
      "{'name': '461917', 'color': '#800026', 'voters': 2118.0}\n",
      "{'name': '461918', 'color': '#800026', 'voters': 2215.0}\n",
      "{'name': '461919', 'color': '#800026', 'voters': 2101.0}\n",
      "{'name': '461920', 'color': '#800026', 'voters': 2252.0}\n",
      "{'name': '461921', 'color': '#800026', 'voters': 2219.0}\n",
      "{'name': '461922', 'color': '#800026', 'voters': 1845.0}\n",
      "{'name': '461923', 'color': '#800026', 'voters': 1802.0}\n",
      "{'name': '461924', 'color': '#800026', 'voters': 2218.0}\n",
      "{'name': '461926', 'color': '#800026', 'voters': 1918.0}\n",
      "{'name': '461928', 'color': '#E31A1C', 'voters': 1364.0}\n",
      "{'name': '461931', 'color': '#800026', 'voters': 1633.0}\n",
      "{'name': '461935', 'color': '#800026', 'voters': 1628.0}\n",
      "{'name': '461937', 'color': '#800026', 'voters': 2418.0}\n",
      "{'name': '461938', 'color': '#800026', 'voters': 2088.0}\n",
      "{'name': '461941', 'color': '#800026', 'voters': 2182.0}\n",
      "{'name': '461944', 'color': '#800026', 'voters': 2178.0}\n",
      "{'name': '461946', 'color': '#800026', 'voters': 2215.0}\n",
      "{'name': '461949', 'color': '#800026', 'voters': 2259.0}\n",
      "{'name': '461951', 'color': '#800026', 'voters': 1959.0}\n",
      "{'name': '461953', 'color': '#800026', 'voters': 2148.0}\n",
      "{'name': '461956', 'color': '#800026', 'voters': 2021.0}\n",
      "{'name': '461960', 'color': '#800026', 'voters': 2438.0}\n",
      "{'name': '461963', 'color': '#800026', 'voters': 2193.0}\n",
      "{'name': '461965', 'color': '#800026', 'voters': 2108.0}\n",
      "{'name': '461968', 'color': '#800026', 'voters': 2510.0}\n",
      "{'name': '462036', 'color': '#800026', 'voters': 2020.0}\n",
      "{'name': '462037', 'color': '#800026', 'voters': 1755.0}\n",
      "{'name': '462039', 'color': '#800026', 'voters': 2236.0}\n",
      "{'name': '462043', 'color': '#800026', 'voters': 2309.0}\n",
      "{'name': '462045', 'color': '#800026', 'voters': 1957.0}\n",
      "{'name': '462049', 'color': '#800026', 'voters': 1796.0}\n",
      "{'name': '462051', 'color': '#800026', 'voters': 2404.0}\n",
      "{'name': '462052', 'color': '#800026', 'voters': 2257.0}\n",
      "{'name': '462053', 'color': '#800026', 'voters': 2160.0}\n",
      "{'name': '462054', 'color': '#800026', 'voters': 2184.0}\n",
      "{'name': '462055', 'color': '#800026', 'voters': 2504.0}\n",
      "{'name': '462056', 'color': '#800026', 'voters': 2745.0}\n",
      "{'name': '462057', 'color': '#800026', 'voters': 2170.0}\n",
      "{'name': '462058', 'color': '#800026', 'voters': 2354.0}\n",
      "{'name': '462059', 'color': '#800026', 'voters': 2239.0}\n",
      "{'name': '462060', 'color': '#800026', 'voters': 2437.0}\n",
      "{'name': '462061', 'color': '#800026', 'voters': 1938.0}\n",
      "{'name': '462062', 'color': '#800026', 'voters': 1912.0}\n",
      "{'name': '462063', 'color': '#800026', 'voters': 1682.0}\n",
      "{'name': '462064', 'color': '#800026', 'voters': 1750.0}\n",
      "{'name': '462065', 'color': '#800026', 'voters': 2345.0}\n",
      "{'name': '462066', 'color': '#800026', 'voters': 2267.0}\n",
      "{'name': '462067', 'color': '#800026', 'voters': 1801.0}\n",
      "{'name': '460988', 'color': '#800026', 'voters': 2287.0}\n",
      "{'name': '462164', 'color': '#E31A1C', 'voters': 546.0}\n",
      "{'name': '461961', 'color': '#800026', 'voters': 2502.0}\n",
      "{'name': '462137', 'color': '#800026', 'voters': 2189.0}\n",
      "{'name': '461881', 'color': '#800026', 'voters': 2134.0}\n",
      "{'name': '462002', 'color': '#800026', 'voters': 2237.0}\n",
      "{'name': '462047', 'color': '#E31A1C', 'voters': 1492.0}\n",
      "{'name': '462068', 'color': '#800026', 'voters': 1508.0}\n"
     ]
    }
   ],
   "source": [
    "for d in population_geojson['features']:\n",
    "    \n",
    "    number_of_diln = d['properties']['name']\n",
    "    col_name = \"Кількість виборців станом на 28.02.2021\"\n",
    "    res = diln.loc[diln['Номер дільниці'] == number_of_diln][col_name].values[0]\n",
    "    \n",
    "    d['properties']['voters'] = res\n",
    "    print(d['properties'])\n",
    "    "
   ]
  },
  {
   "cell_type": "code",
   "execution_count": 48,
   "metadata": {
    "ExecuteTime": {
     "end_time": "2021-03-14T21:31:25.678900Z",
     "start_time": "2021-03-14T21:31:25.613519Z"
    }
   },
   "outputs": [],
   "source": [
    "with open('diln_population.geojson', 'w') as f:\n",
    "    json.dump(population_geojson, f)"
   ]
  },
  {
   "cell_type": "code",
   "execution_count": null,
   "metadata": {},
   "outputs": [],
   "source": []
  }
 ],
 "metadata": {
  "kernelspec": {
   "display_name": "Python 3",
   "language": "python",
   "name": "python3"
  },
  "language_info": {
   "codemirror_mode": {
    "name": "ipython",
    "version": 3
   },
   "file_extension": ".py",
   "mimetype": "text/x-python",
   "name": "python",
   "nbconvert_exporter": "python",
   "pygments_lexer": "ipython3",
   "version": "3.8.5"
  },
  "toc": {
   "base_numbering": 1,
   "nav_menu": {},
   "number_sections": true,
   "sideBar": true,
   "skip_h1_title": false,
   "title_cell": "Table of Contents",
   "title_sidebar": "Contents",
   "toc_cell": false,
   "toc_position": {},
   "toc_section_display": true,
   "toc_window_display": false
  }
 },
 "nbformat": 4,
 "nbformat_minor": 4
}
