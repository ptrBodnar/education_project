{
 "cells": [
  {
   "cell_type": "code",
   "execution_count": 5,
   "metadata": {
    "ExecuteTime": {
     "end_time": "2021-03-14T21:22:56.297815Z",
     "start_time": "2021-03-14T21:22:56.294036Z"
    }
   },
   "outputs": [],
   "source": [
    "import pandas as pd\n",
    "import json"
   ]
  },
  {
   "cell_type": "code",
   "execution_count": 2,
   "metadata": {
    "ExecuteTime": {
     "end_time": "2021-03-14T20:23:00.259561Z",
     "start_time": "2021-03-14T20:23:00.138206Z"
    }
   },
   "outputs": [
    {
     "name": "stdout",
     "output_type": "stream",
     "text": [
      "hrom_budget.json  schools.xlsx\tstats_schools.xlsx  Untitled.ipynb\r\n"
     ]
    }
   ],
   "source": [
    "! ls"
   ]
  },
  {
   "cell_type": "code",
   "execution_count": 8,
   "metadata": {
    "ExecuteTime": {
     "end_time": "2021-03-14T20:24:23.217526Z",
     "start_time": "2021-03-14T20:24:23.165340Z"
    }
   },
   "outputs": [],
   "source": [
    "stats_schools = pd.read_excel(\"stats_schools.xlsx\")\n",
    "schools = pd.read_excel(\"schools.xlsx\")"
   ]
  },
  {
   "cell_type": "code",
   "execution_count": 12,
   "metadata": {
    "ExecuteTime": {
     "end_time": "2021-03-14T20:24:50.841243Z",
     "start_time": "2021-03-14T20:24:50.833794Z"
    }
   },
   "outputs": [
    {
     "data": {
      "text/plain": [
       "Index(['registration_code', 'school_short_name', 'school_full_name',\n",
       "       'school_old_name', 'district', 'education_office', 'post_adress',\n",
       "       'places_amount', 'pupils', 'staf'],\n",
       "      dtype='object')"
      ]
     },
     "execution_count": 12,
     "metadata": {},
     "output_type": "execute_result"
    }
   ],
   "source": [
    "stats_schools.columns"
   ]
  },
  {
   "cell_type": "code",
   "execution_count": 15,
   "metadata": {
    "ExecuteTime": {
     "end_time": "2021-03-14T20:25:27.692563Z",
     "start_time": "2021-03-14T20:25:27.680327Z"
    }
   },
   "outputs": [],
   "source": [
    "schools_full = pd.merge(schools, stats_schools[['registration_code', 'places_amount', 'pupils', 'staf']], on='registration_code')"
   ]
  },
  {
   "cell_type": "code",
   "execution_count": 20,
   "metadata": {
    "ExecuteTime": {
     "end_time": "2021-03-14T20:27:02.746217Z",
     "start_time": "2021-03-14T20:27:02.740073Z"
    }
   },
   "outputs": [],
   "source": [
    "schools_full['students_per_teacher'] = schools_full.pupils/schools_full.staf"
   ]
  },
  {
   "cell_type": "code",
   "execution_count": 22,
   "metadata": {
    "ExecuteTime": {
     "end_time": "2021-03-14T20:27:16.533378Z",
     "start_time": "2021-03-14T20:27:16.525048Z"
    }
   },
   "outputs": [],
   "source": [
    "schools_full.to_csv(\"schools_full_lviv.csv\", index=False)"
   ]
  },
  {
   "cell_type": "code",
   "execution_count": 28,
   "metadata": {
    "ExecuteTime": {
     "end_time": "2021-03-14T20:33:03.275121Z",
     "start_time": "2021-03-14T20:33:03.269080Z"
    }
   },
   "outputs": [],
   "source": [
    "import json"
   ]
  },
  {
   "cell_type": "code",
   "execution_count": 29,
   "metadata": {
    "ExecuteTime": {
     "end_time": "2021-03-14T20:33:03.483541Z",
     "start_time": "2021-03-14T20:33:03.466608Z"
    }
   },
   "outputs": [],
   "source": [
    "json_data = json.load(open(\"hrom_budget.json\"))"
   ]
  },
  {
   "cell_type": "code",
   "execution_count": 32,
   "metadata": {
    "ExecuteTime": {
     "end_time": "2021-03-14T20:35:55.904634Z",
     "start_time": "2021-03-14T20:35:55.896588Z"
    }
   },
   "outputs": [
    {
     "data": {
      "text/plain": [
       "{'type': 'Feature',\n",
       " 'properties': {},\n",
       " 'geometry': {'type': 'Point',\n",
       "  'coordinates': [30.761718749999996, 54.265224078605684]}}"
      ]
     },
     "execution_count": 32,
     "metadata": {},
     "output_type": "execute_result"
    }
   ],
   "source": [
    "{\n",
    "      \"type\": \"Feature\",\n",
    "      \"properties\": {},\n",
    "      \"geometry\": {\n",
    "        \"type\": \"Point\",\n",
    "        \"coordinates\": [\n",
    "          30.761718749999996,\n",
    "          54.265224078605684\n",
    "        ]\n",
    "      }\n",
    "    }"
   ]
  },
  {
   "cell_type": "code",
   "execution_count": 38,
   "metadata": {
    "ExecuteTime": {
     "end_time": "2021-03-14T20:39:32.514227Z",
     "start_time": "2021-03-14T20:39:32.507622Z"
    }
   },
   "outputs": [
    {
     "data": {
      "text/plain": [
       "{'postcode': '79059',\n",
       " 'apartment': None,\n",
       " 'street': 'вул. Пилипа Орлика',\n",
       " 'building': '4',\n",
       " 'district': None,\n",
       " 'city': 'Львів',\n",
       " 'state': 'Львівська область',\n",
       " 'country': 'Україна',\n",
       " 'country_code': 'ua',\n",
       " 'lat': 49.873938,\n",
       " 'lon': 24.034988}"
      ]
     },
     "execution_count": 38,
     "metadata": {},
     "output_type": "execute_result"
    }
   ],
   "source": [
    "json_data[0]['address'].lart"
   ]
  },
  {
   "cell_type": "code",
   "execution_count": 116,
   "metadata": {
    "ExecuteTime": {
     "end_time": "2021-03-14T21:04:57.808757Z",
     "start_time": "2021-03-14T21:04:57.791891Z"
    }
   },
   "outputs": [
    {
     "name": "stdout",
     "output_type": "stream",
     "text": [
      "0\n",
      "1\n",
      "2\n",
      "3\n",
      "4\n",
      "5\n",
      "6\n",
      "7\n",
      "8\n",
      "9\n",
      "10\n",
      "11\n",
      "12\n",
      "13\n",
      "14\n",
      "15\n",
      "16\n",
      "17\n",
      "18\n",
      "19\n",
      "20\n",
      "21\n",
      "22\n",
      "23\n",
      "24\n",
      "25\n",
      "26\n",
      "27\n",
      "28\n",
      "29\n",
      "30\n",
      "31\n",
      "32\n",
      "33\n",
      "34\n",
      "35\n",
      "36\n",
      "37\n",
      "38\n",
      "39\n",
      "40\n",
      "41\n",
      "42\n",
      "43\n",
      "44\n",
      "45\n",
      "46\n",
      "47\n",
      "48\n",
      "49\n",
      "50\n",
      "51\n",
      "52\n",
      "53\n",
      "54\n",
      "55\n",
      "56\n",
      "57\n",
      "58\n",
      "59\n",
      "60\n",
      "61\n",
      "62\n",
      "63\n",
      "64\n",
      "65\n",
      "66\n",
      "67\n",
      "68\n",
      "69\n",
      "70\n",
      "71\n",
      "72\n",
      "73\n",
      "74\n",
      "75\n",
      "76\n",
      "77\n",
      "78\n",
      "79\n",
      "80\n",
      "81\n",
      "82\n",
      "83\n",
      "84\n",
      "85\n",
      "86\n",
      "87\n",
      "88\n",
      "89\n",
      "90\n",
      "91\n",
      "92\n",
      "93\n",
      "94\n",
      "95\n",
      "96\n",
      "97\n",
      "98\n",
      "99\n",
      "100\n",
      "101\n",
      "102\n",
      "103\n",
      "104\n",
      "105\n",
      "106\n",
      "107\n",
      "108\n",
      "109\n",
      "110\n",
      "111\n",
      "112\n",
      "113\n",
      "114\n",
      "115\n",
      "116\n",
      "117\n",
      "118\n",
      "119\n",
      "120\n",
      "121\n",
      "122\n",
      "123\n",
      "124\n",
      "125\n",
      "126\n",
      "127\n",
      "128\n",
      "129\n",
      "130\n",
      "131\n",
      "132\n",
      "133\n",
      "134\n",
      "135\n",
      "136\n",
      "137\n",
      "138\n",
      "139\n",
      "140\n",
      "141\n",
      "142\n",
      "143\n",
      "144\n",
      "145\n",
      "146\n",
      "147\n",
      "148\n",
      "149\n",
      "150\n",
      "151\n",
      "152\n",
      "153\n",
      "154\n",
      "155\n",
      "156\n",
      "157\n",
      "158\n",
      "159\n",
      "160\n",
      "161\n",
      "162\n",
      "163\n",
      "164\n",
      "165\n",
      "166\n",
      "167\n",
      "168\n",
      "169\n",
      "170\n",
      "171\n",
      "172\n",
      "173\n",
      "174\n",
      "175\n",
      "176\n",
      "177\n",
      "178\n",
      "179\n",
      "180\n",
      "181\n",
      "182\n",
      "183\n",
      "184\n",
      "185\n",
      "186\n",
      "187\n",
      "188\n",
      "189\n",
      "190\n",
      "191\n",
      "192\n",
      "193\n",
      "194\n",
      "195\n",
      "196\n",
      "197\n",
      "198\n",
      "199\n",
      "200\n",
      "201\n",
      "202\n",
      "203\n",
      "204\n",
      "205\n",
      "206\n",
      "207\n",
      "208\n",
      "209\n",
      "210\n",
      "211\n",
      "212\n",
      "213\n",
      "214\n",
      "215\n",
      "216\n",
      "217\n",
      "218\n",
      "219\n",
      "220\n",
      "221\n",
      "222\n",
      "223\n",
      "224\n",
      "225\n",
      "226\n",
      "227\n",
      "228\n",
      "229\n",
      "230\n",
      "231\n",
      "232\n",
      "233\n",
      "234\n",
      "235\n",
      "236\n",
      "237\n",
      "238\n",
      "239\n"
     ]
    }
   ],
   "source": [
    "geojson = []\n",
    "for i,d in enumerate(json_data):\n",
    "    print(i)\n",
    "    \n",
    "    if 'address' in d:\n",
    "        if d['address'] is not None:\n",
    "            if 'lon' in  d['address']:\n",
    "                lon = d['address']['lon']\n",
    "                lat = d['address']['lat']\n",
    "    \n",
    "    else:\n",
    "        lon = d['district']['address']['lon'],\n",
    "        lat = d['district']['address']['lat']\n",
    "    features = {\n",
    "      \"type\": \"Feature\",\n",
    "      \"properties\": {**d, \"category_name\": d['category']['name'],\n",
    " \"created_at_date\": d['created_at']['date'], \"votes\": d['votes']['value'], \"budget\": d['budget']['value']},\n",
    "      \"geometry\": {\n",
    "        \"type\": \"Point\",\n",
    "        \"coordinates\": [\n",
    "          lon,\n",
    "          lat\n",
    "        ]\n",
    "      }\n",
    "    }\n",
    "    \n",
    "    geojson.append(features)"
   ]
  },
  {
   "cell_type": "code",
   "execution_count": 117,
   "metadata": {
    "ExecuteTime": {
     "end_time": "2021-03-14T21:05:02.222769Z",
     "start_time": "2021-03-14T21:05:02.219158Z"
    }
   },
   "outputs": [],
   "source": [
    "feature_collextion = {\n",
    "  \"type\": \"FeatureCollection\",\n",
    "  \"features\": geojson\n",
    "}"
   ]
  },
  {
   "cell_type": "code",
   "execution_count": 118,
   "metadata": {
    "ExecuteTime": {
     "end_time": "2021-03-14T21:05:03.148901Z",
     "start_time": "2021-03-14T21:05:03.115722Z"
    }
   },
   "outputs": [],
   "source": [
    "with open('hrom_budget.geojson', 'w') as f:\n",
    "    json.dump(feature_collextion, f)"
   ]
  },
  {
   "cell_type": "code",
   "execution_count": 92,
   "metadata": {
    "ExecuteTime": {
     "end_time": "2021-03-14T20:51:47.902412Z",
     "start_time": "2021-03-14T20:51:47.896900Z"
    }
   },
   "outputs": [],
   "source": [
    "hrom_budget = pd.DataFrame(geojson)"
   ]
  },
  {
   "cell_type": "code",
   "execution_count": 94,
   "metadata": {
    "ExecuteTime": {
     "end_time": "2021-03-14T20:53:33.014484Z",
     "start_time": "2021-03-14T20:53:33.000304Z"
    }
   },
   "outputs": [],
   "source": [
    "hrom_budget.to_json(\"hrom_budget.geojson\", orient='records')"
   ]
  },
  {
   "cell_type": "code",
   "execution_count": 2,
   "metadata": {
    "ExecuteTime": {
     "end_time": "2021-03-14T21:22:50.800348Z",
     "start_time": "2021-03-14T21:22:50.796963Z"
    }
   },
   "outputs": [],
   "source": [
    "population = \"https://www.drv.gov.ua/ords/portal/!cm_core.cm_index?option=ext_dvk&pid100=46&pgf7691=64097&prejim=1\""
   ]
  },
  {
   "cell_type": "code",
   "execution_count": 27,
   "metadata": {
    "ExecuteTime": {
     "end_time": "2021-03-14T21:27:32.325321Z",
     "start_time": "2021-03-14T21:27:30.648770Z"
    }
   },
   "outputs": [],
   "source": [
    "normal = pd.read_html(population)[0]\n",
    "special = pd.read_html(population)[1]\n",
    "\n",
    "names = [d[0] if d[0] == d[1] else d[0] + \" \" + d[1] for d in normal.columns ]\n"
   ]
  },
  {
   "cell_type": "code",
   "execution_count": 28,
   "metadata": {
    "ExecuteTime": {
     "end_time": "2021-03-14T21:27:39.238757Z",
     "start_time": "2021-03-14T21:27:39.234474Z"
    }
   },
   "outputs": [],
   "source": [
    "normal.columns = names\n",
    "special.columns = names"
   ]
  },
  {
   "cell_type": "code",
   "execution_count": 30,
   "metadata": {
    "ExecuteTime": {
     "end_time": "2021-03-14T21:28:17.753296Z",
     "start_time": "2021-03-14T21:28:17.747216Z"
    }
   },
   "outputs": [],
   "source": [
    "diln = pd.concat([normal, special])"
   ]
  },
  {
   "cell_type": "code",
   "execution_count": 31,
   "metadata": {
    "ExecuteTime": {
     "end_time": "2021-03-14T21:28:28.421188Z",
     "start_time": "2021-03-14T21:28:28.415752Z"
    }
   },
   "outputs": [],
   "source": [
    "diln['Номер дільниці'] = diln['Номер дільниці'].astype(str)"
   ]
  },
  {
   "cell_type": "code",
   "execution_count": 32,
   "metadata": {
    "ExecuteTime": {
     "end_time": "2021-03-14T21:28:32.943728Z",
     "start_time": "2021-03-14T21:28:32.929306Z"
    }
   },
   "outputs": [],
   "source": [
    "population_geojson = json.load(open(\"population.geojson\"))"
   ]
  },
  {
   "cell_type": "code",
   "execution_count": 41,
   "metadata": {
    "ExecuteTime": {
     "end_time": "2021-03-14T21:29:52.536839Z",
     "start_time": "2021-03-14T21:29:52.528728Z"
    }
   },
   "outputs": [
    {
     "data": {
      "text/plain": [
       "1139.0"
      ]
     },
     "execution_count": 41,
     "metadata": {},
     "output_type": "execute_result"
    }
   ],
   "source": [
    "diln.loc[diln['Номер дільниці'] == '460486']['Кількість виборців станом на 28.02.2021'].values[0]"
   ]
  },
  {
   "cell_type": "code",
   "execution_count": 43,
   "metadata": {
    "ExecuteTime": {
     "end_time": "2021-03-14T21:30:27.076151Z",
     "start_time": "2021-03-14T21:30:26.886717Z"
    }
   },
   "outputs": [
    {
     "name": "stdout",
     "output_type": "stream",
     "text": [
      "{'name': '462165', 'color': '#E31A1C', 'voters': 1212.0}\n",
      "{'name': '462166', 'color': '#FD8D3C', 'voters': 232.0}\n",
      "{'name': '462159', 'color': '#800026', 'voters': 1680.0}\n",
      "{'name': '461925', 'color': '#E31A1C', 'voters': 1046.0}\n",
      "{'name': '461927', 'color': '#E31A1C', 'voters': 1270.0}\n",
      "{'name': '461929', 'color': '#800026', 'voters': 2215.0}\n",
      "{'name': '461930', 'color': '#800026', 'voters': 2068.0}\n",
      "{'name': '461933', 'color': '#E31A1C', 'voters': 1321.0}\n",
      "{'name': '461934', 'color': '#800026', 'voters': 1657.0}\n",
      "{'name': '461936', 'color': '#800026', 'voters': 1564.0}\n",
      "{'name': '461939', 'color': '#800026', 'voters': 2401.0}\n",
      "{'name': '461940', 'color': '#800026', 'voters': 1670.0}\n",
      "{'name': '461942', 'color': '#800026', 'voters': 2068.0}\n",
      "{'name': '461943', 'color': '#800026', 'voters': 1915.0}\n",
      "{'name': '461945', 'color': '#E31A1C', 'voters': 855.0}\n",
      "{'name': '461947', 'color': '#800026', 'voters': 1660.0}\n",
      "{'name': '461948', 'color': '#E31A1C', 'voters': 1428.0}\n",
      "{'name': '461950', 'color': '#E31A1C', 'voters': 1454.0}\n",
      "{'name': '461952', 'color': '#800026', 'voters': 1961.0}\n",
      "{'name': '461954', 'color': '#800026', 'voters': 1756.0}\n",
      "{'name': '461955', 'color': '#E31A1C', 'voters': 1491.0}\n",
      "{'name': '461957', 'color': '#800026', 'voters': 1837.0}\n",
      "{'name': '461958', 'color': '#E31A1C', 'voters': 1498.0}\n",
      "{'name': '461962', 'color': '#800026', 'voters': 2382.0}\n",
      "{'name': '461964', 'color': '#800026', 'voters': 1803.0}\n",
      "{'name': '461966', 'color': '#800026', 'voters': 2000.0}\n",
      "{'name': '461967', 'color': '#800026', 'voters': 1909.0}\n",
      "{'name': '461969', 'color': '#E31A1C', 'voters': 1434.0}\n",
      "{'name': '462038', 'color': '#800026', 'voters': 1972.0}\n",
      "{'name': '462040', 'color': '#800026', 'voters': 1819.0}\n",
      "{'name': '462041', 'color': '#800026', 'voters': 2292.0}\n",
      "{'name': '462044', 'color': '#800026', 'voters': 1840.0}\n",
      "{'name': '462046', 'color': '#800026', 'voters': 1842.0}\n",
      "{'name': '462048', 'color': '#800026', 'voters': 1532.0}\n",
      "{'name': '462050', 'color': '#800026', 'voters': 1951.0}\n",
      "{'name': '462158', 'color': '#E31A1C', 'voters': 1349.0}\n",
      "{'name': '460987', 'color': '#800026', 'voters': 1985.0}\n",
      "{'name': '461667', 'color': '#800026', 'voters': 2086.0}\n",
      "{'name': '462144', 'color': '#800026', 'voters': 2367.0}\n",
      "{'name': '462146', 'color': '#800026', 'voters': 2215.0}\n",
      "{'name': '462147', 'color': '#800026', 'voters': 1888.0}\n",
      "{'name': '461853', 'color': '#E31A1C', 'voters': 1489.0}\n",
      "{'name': '461855', 'color': '#800026', 'voters': 1975.0}\n",
      "{'name': '461856', 'color': '#800026', 'voters': 2134.0}\n",
      "{'name': '461858', 'color': '#E31A1C', 'voters': 1346.0}\n",
      "{'name': '461860', 'color': '#E31A1C', 'voters': 1355.0}\n",
      "{'name': '461861', 'color': '#E31A1C', 'voters': 1424.0}\n",
      "{'name': '461863', 'color': '#800026', 'voters': 1946.0}\n",
      "{'name': '461864', 'color': '#E31A1C', 'voters': 1401.0}\n",
      "{'name': '462149', 'color': '#800026', 'voters': 2018.0}\n",
      "{'name': '462152', 'color': '#E31A1C', 'voters': 730.0}\n",
      "{'name': '461977', 'color': '#800026', 'voters': 1892.0}\n",
      "{'name': '461978', 'color': '#800026', 'voters': 1822.0}\n",
      "{'name': '461980', 'color': '#800026', 'voters': 2431.0}\n",
      "{'name': '461982', 'color': '#800026', 'voters': 2170.0}\n",
      "{'name': '461983', 'color': '#800026', 'voters': 2127.0}\n",
      "{'name': '461865', 'color': '#800026', 'voters': 1605.0}\n",
      "{'name': '461866', 'color': '#800026', 'voters': 1942.0}\n",
      "{'name': '461868', 'color': '#800026', 'voters': 1758.0}\n",
      "{'name': '461869', 'color': '#800026', 'voters': 1896.0}\n",
      "{'name': '461871', 'color': '#E31A1C', 'voters': 1349.0}\n",
      "{'name': '461876', 'color': '#800026', 'voters': 2294.0}\n",
      "{'name': '461877', 'color': '#E31A1C', 'voters': 1387.0}\n",
      "{'name': '461984', 'color': '#800026', 'voters': 2341.0}\n",
      "{'name': '461986', 'color': '#800026', 'voters': 2005.0}\n",
      "{'name': '461987', 'color': '#E31A1C', 'voters': 1229.0}\n",
      "{'name': '461989', 'color': '#800026', 'voters': 1903.0}\n",
      "{'name': '461990', 'color': '#800026', 'voters': 1940.0}\n",
      "{'name': '461992', 'color': '#800026', 'voters': 2119.0}\n",
      "{'name': '461994', 'color': '#800026', 'voters': 1859.0}\n",
      "{'name': '461995', 'color': '#800026', 'voters': 1756.0}\n",
      "{'name': '461997', 'color': '#800026', 'voters': 2079.0}\n",
      "{'name': '461998', 'color': '#800026', 'voters': 2275.0}\n",
      "{'name': '462000', 'color': '#800026', 'voters': 1868.0}\n",
      "{'name': '462001', 'color': '#800026', 'voters': 2245.0}\n",
      "{'name': '461880', 'color': '#800026', 'voters': 1920.0}\n",
      "{'name': '461883', 'color': '#800026', 'voters': 2129.0}\n",
      "{'name': '461884', 'color': '#800026', 'voters': 2446.0}\n",
      "{'name': '461886', 'color': '#800026', 'voters': 2291.0}\n",
      "{'name': '461888', 'color': '#800026', 'voters': 2055.0}\n",
      "{'name': '461889', 'color': '#800026', 'voters': 2067.0}\n",
      "{'name': '461891', 'color': '#800026', 'voters': 1943.0}\n",
      "{'name': '461892', 'color': '#800026', 'voters': 1932.0}\n",
      "{'name': '461894', 'color': '#800026', 'voters': 2199.0}\n",
      "{'name': '462003', 'color': '#800026', 'voters': 2359.0}\n",
      "{'name': '462004', 'color': '#800026', 'voters': 2240.0}\n",
      "{'name': '462102', 'color': '#800026', 'voters': 1986.0}\n",
      "{'name': '462103', 'color': '#800026', 'voters': 2493.0}\n",
      "{'name': '462105', 'color': '#800026', 'voters': 2394.0}\n",
      "{'name': '462106', 'color': '#800026', 'voters': 2428.0}\n",
      "{'name': '462108', 'color': '#800026', 'voters': 2361.0}\n",
      "{'name': '462110', 'color': '#800026', 'voters': 2498.0}\n",
      "{'name': '462111', 'color': '#800026', 'voters': 2487.0}\n",
      "{'name': '462113', 'color': '#800026', 'voters': 2147.0}\n",
      "{'name': '462114', 'color': '#800026', 'voters': 2376.0}\n",
      "{'name': '462116', 'color': '#800026', 'voters': 2186.0}\n",
      "{'name': '462118', 'color': '#800026', 'voters': 2115.0}\n",
      "{'name': '462119', 'color': '#800026', 'voters': 2161.0}\n",
      "{'name': '462121', 'color': '#800026', 'voters': 2050.0}\n",
      "{'name': '462122', 'color': '#800026', 'voters': 2400.0}\n",
      "{'name': '462124', 'color': '#800026', 'voters': 2115.0}\n",
      "{'name': '462126', 'color': '#800026', 'voters': 1862.0}\n",
      "{'name': '462127', 'color': '#800026', 'voters': 2135.0}\n",
      "{'name': '462129', 'color': '#800026', 'voters': 2058.0}\n",
      "{'name': '462130', 'color': '#800026', 'voters': 2033.0}\n",
      "{'name': '462132', 'color': '#E31A1C', 'voters': 1006.0}\n",
      "{'name': '461849', 'color': '#800026', 'voters': 1998.0}\n",
      "{'name': '461850', 'color': '#E31A1C', 'voters': 1273.0}\n",
      "{'name': '461852', 'color': '#E31A1C', 'voters': 1272.0}\n",
      "{'name': '462133', 'color': '#E31A1C', 'voters': 1390.0}\n",
      "{'name': '462135', 'color': '#800026', 'voters': 2175.0}\n",
      "{'name': '462138', 'color': '#800026', 'voters': 2146.0}\n",
      "{'name': '462139', 'color': '#800026', 'voters': 1990.0}\n",
      "{'name': '462141', 'color': '#800026', 'voters': 1566.0}\n",
      "{'name': '462142', 'color': '#800026', 'voters': 2294.0}\n",
      "{'name': '462162', 'color': '#E31A1C', 'voters': 829.0}\n",
      "{'name': '460485', 'color': '#E31A1C', 'voters': 503.0}\n",
      "{'name': '460486', 'color': '#E31A1C', 'voters': 1139.0}\n",
      "{'name': '460487', 'color': '#FD8D3C', 'voters': 189.0}\n",
      "{'name': '460499', 'color': '#E31A1C', 'voters': 1254.0}\n",
      "{'name': '460500', 'color': '#FD8D3C', 'voters': 489.0}\n",
      "{'name': '460501', 'color': '#E31A1C', 'voters': 1333.0}\n",
      "{'name': '460502', 'color': '#800026', 'voters': 2153.0}\n",
      "{'name': '460503', 'color': '#E31A1C', 'voters': 610.0}\n",
      "{'name': '460504', 'color': '#800026', 'voters': 1884.0}\n",
      "{'name': '460505', 'color': '#E31A1C', 'voters': 1385.0}\n",
      "{'name': '460506', 'color': '#FD8D3C', 'voters': 273.0}\n",
      "{'name': '460507', 'color': '#E31A1C', 'voters': 541.0}\n",
      "{'name': '460508', 'color': '#E31A1C', 'voters': 1114.0}\n",
      "{'name': '460509', 'color': '#E31A1C', 'voters': 1180.0}\n",
      "{'name': '462069', 'color': '#800026', 'voters': 1971.0}\n",
      "{'name': '462070', 'color': '#800026', 'voters': 1744.0}\n",
      "{'name': '462071', 'color': '#800026', 'voters': 1716.0}\n",
      "{'name': '462072', 'color': '#800026', 'voters': 1891.0}\n",
      "{'name': '462073', 'color': '#800026', 'voters': 2359.0}\n",
      "{'name': '462074', 'color': '#800026', 'voters': 1612.0}\n",
      "{'name': '462075', 'color': '#800026', 'voters': 1929.0}\n",
      "{'name': '462076', 'color': '#800026', 'voters': 1689.0}\n",
      "{'name': '462077', 'color': '#800026', 'voters': 1953.0}\n",
      "{'name': '462078', 'color': '#800026', 'voters': 1941.0}\n",
      "{'name': '462079', 'color': '#E31A1C', 'voters': 1450.0}\n",
      "{'name': '462080', 'color': '#800026', 'voters': 2042.0}\n",
      "{'name': '462081', 'color': '#800026', 'voters': 1883.0}\n",
      "{'name': '462082', 'color': '#E31A1C', 'voters': 1446.0}\n",
      "{'name': '462083', 'color': '#800026', 'voters': 1904.0}\n",
      "{'name': '462084', 'color': '#E31A1C', 'voters': 1417.0}\n",
      "{'name': '462085', 'color': '#800026', 'voters': 1688.0}\n",
      "{'name': '462086', 'color': '#800026', 'voters': 1957.0}\n",
      "{'name': '462087', 'color': '#800026', 'voters': 2541.0}\n",
      "{'name': '462088', 'color': '#800026', 'voters': 2393.0}\n",
      "{'name': '462089', 'color': '#800026', 'voters': 2076.0}\n",
      "{'name': '462090', 'color': '#800026', 'voters': 2245.0}\n",
      "{'name': '462091', 'color': '#FD8D3C', 'voters': 380.0}\n",
      "{'name': '462093', 'color': '#FD8D3C', 'voters': 210.0}\n",
      "{'name': '462094', 'color': '#FD8D3C', 'voters': 945.0}\n",
      "{'name': '462156', 'color': '#800026', 'voters': 1663.0}\n",
      "{'name': '462153', 'color': '#E31A1C', 'voters': 1247.0}\n",
      "{'name': '462154', 'color': '#E31A1C', 'voters': 1296.0}\n",
      "{'name': '462095', 'color': '#800026', 'voters': 1848.0}\n",
      "{'name': '462096', 'color': '#800026', 'voters': 1977.0}\n",
      "{'name': '462097', 'color': '#800026', 'voters': 2293.0}\n",
      "{'name': '462098', 'color': '#800026', 'voters': 2172.0}\n",
      "{'name': '462099', 'color': '#800026', 'voters': 1604.0}\n",
      "{'name': '462100', 'color': '#800026', 'voters': 1882.0}\n",
      "{'name': '462101', 'color': '#E31A1C', 'voters': 1276.0}\n",
      "{'name': '462104', 'color': '#800026', 'voters': 2299.0}\n",
      "{'name': '462107', 'color': '#800026', 'voters': 2423.0}\n",
      "{'name': '462109', 'color': '#800026', 'voters': 2285.0}\n",
      "{'name': '462112', 'color': '#800026', 'voters': 2381.0}\n",
      "{'name': '462115', 'color': '#800026', 'voters': 2421.0}\n",
      "{'name': '462117', 'color': '#800026', 'voters': 2193.0}\n",
      "{'name': '462120', 'color': '#800026', 'voters': 2382.0}\n",
      "{'name': '462123', 'color': '#800026', 'voters': 2192.0}\n",
      "{'name': '462125', 'color': '#800026', 'voters': 2162.0}\n",
      "{'name': '462128', 'color': '#800026', 'voters': 2295.0}\n",
      "{'name': '462131', 'color': '#E31A1C', 'voters': 1420.0}\n",
      "{'name': '461848', 'color': '#800026', 'voters': 1921.0}\n",
      "{'name': '461851', 'color': '#800026', 'voters': 1535.0}\n",
      "{'name': '462134', 'color': '#800026', 'voters': 2515.0}\n",
      "{'name': '462136', 'color': '#800026', 'voters': 1779.0}\n",
      "{'name': '462140', 'color': '#800026', 'voters': 2302.0}\n",
      "{'name': '462143', 'color': '#800026', 'voters': 2221.0}\n",
      "{'name': '462145', 'color': '#800026', 'voters': 2139.0}\n",
      "{'name': '461854', 'color': '#800026', 'voters': 1911.0}\n",
      "{'name': '461857', 'color': '#800026', 'voters': 2082.0}\n",
      "{'name': '461859', 'color': '#E31A1C', 'voters': 812.0}\n",
      "{'name': '461862', 'color': '#800026', 'voters': 1594.0}\n",
      "{'name': '462148', 'color': '#800026', 'voters': 2050.0}\n",
      "{'name': '462150', 'color': '#800026', 'voters': 1914.0}\n",
      "{'name': '461976', 'color': '#800026', 'voters': 1997.0}\n",
      "{'name': '461979', 'color': '#800026', 'voters': 1638.0}\n",
      "{'name': '461981', 'color': '#E31A1C', 'voters': 1321.0}\n",
      "{'name': '461867', 'color': '#800026', 'voters': 1997.0}\n",
      "{'name': '461870', 'color': '#E31A1C', 'voters': 1260.0}\n",
      "{'name': '461878', 'color': '#800026', 'voters': 2254.0}\n",
      "{'name': '461985', 'color': '#800026', 'voters': 1589.0}\n",
      "{'name': '461988', 'color': '#800026', 'voters': 2001.0}\n",
      "{'name': '461991', 'color': '#800026', 'voters': 1711.0}\n",
      "{'name': '461993', 'color': '#800026', 'voters': 1643.0}\n",
      "{'name': '461996', 'color': '#800026', 'voters': 2094.0}\n",
      "{'name': '461999', 'color': '#800026', 'voters': 2036.0}\n",
      "{'name': '461879', 'color': '#800026', 'voters': 2337.0}\n",
      "{'name': '461882', 'color': '#800026', 'voters': 1938.0}\n",
      "{'name': '461885', 'color': '#800026', 'voters': 2269.0}\n",
      "{'name': '461887', 'color': '#800026', 'voters': 2134.0}\n",
      "{'name': '461890', 'color': '#800026', 'voters': 2168.0}\n",
      "{'name': '461893', 'color': '#800026', 'voters': 2097.0}\n",
      "{'name': '461895', 'color': '#800026', 'voters': 2151.0}\n",
      "{'name': '462005', 'color': '#800026', 'voters': 2172.0}\n",
      "{'name': '462006', 'color': '#800026', 'voters': 2035.0}\n",
      "{'name': '462007', 'color': '#800026', 'voters': 2066.0}\n",
      "{'name': '462008', 'color': '#800026', 'voters': 2001.0}\n",
      "{'name': '462009', 'color': '#800026', 'voters': 2337.0}\n",
      "{'name': '462010', 'color': '#800026', 'voters': 2504.0}\n",
      "{'name': '462011', 'color': '#800026', 'voters': 2457.0}\n",
      "{'name': '462012', 'color': '#800026', 'voters': 2223.0}\n",
      "{'name': '462013', 'color': '#800026', 'voters': 2068.0}\n",
      "{'name': '462014', 'color': '#E31A1C', 'voters': 1369.0}\n",
      "{'name': '462015', 'color': '#800026', 'voters': 2020.0}\n",
      "{'name': '462016', 'color': '#800026', 'voters': 1967.0}\n",
      "{'name': '462017', 'color': '#800026', 'voters': 2253.0}\n",
      "{'name': '462018', 'color': '#800026', 'voters': 2452.0}\n",
      "{'name': '462019', 'color': '#800026', 'voters': 2291.0}\n",
      "{'name': '462020', 'color': '#800026', 'voters': 1876.0}\n",
      "{'name': '462021', 'color': '#800026', 'voters': 1918.0}\n",
      "{'name': '461896', 'color': '#800026', 'voters': 2231.0}\n",
      "{'name': '461897', 'color': '#800026', 'voters': 1906.0}\n",
      "{'name': '461898', 'color': '#800026', 'voters': 2158.0}\n",
      "{'name': '461899', 'color': '#800026', 'voters': 2183.0}\n",
      "{'name': '461900', 'color': '#800026', 'voters': 2128.0}\n",
      "{'name': '461901', 'color': '#800026', 'voters': 2231.0}\n",
      "{'name': '461902', 'color': '#800026', 'voters': 2022.0}\n",
      "{'name': '461903', 'color': '#800026', 'voters': 2085.0}\n",
      "{'name': '461904', 'color': '#800026', 'voters': 2210.0}\n",
      "{'name': '461905', 'color': '#800026', 'voters': 2378.0}\n",
      "{'name': '461906', 'color': '#800026', 'voters': 2093.0}\n",
      "{'name': '461907', 'color': '#800026', 'voters': 2321.0}\n",
      "{'name': '461908', 'color': '#800026', 'voters': 2198.0}\n",
      "{'name': '461909', 'color': '#800026', 'voters': 1609.0}\n",
      "{'name': '461910', 'color': '#800026', 'voters': 1964.0}\n",
      "{'name': '462022', 'color': '#800026', 'voters': 2411.0}\n",
      "{'name': '462023', 'color': '#800026', 'voters': 2409.0}\n",
      "{'name': '462024', 'color': '#800026', 'voters': 2326.0}\n",
      "{'name': '462025', 'color': '#800026', 'voters': 2293.0}\n",
      "{'name': '462026', 'color': '#800026', 'voters': 2390.0}\n",
      "{'name': '462027', 'color': '#800026', 'voters': 2312.0}\n",
      "{'name': '462028', 'color': '#800026', 'voters': 2474.0}\n",
      "{'name': '462029', 'color': '#800026', 'voters': 2431.0}\n",
      "{'name': '462030', 'color': '#800026', 'voters': 2347.0}\n",
      "{'name': '461911', 'color': '#800026', 'voters': 2129.0}\n",
      "{'name': '461912', 'color': '#800026', 'voters': 2020.0}\n",
      "{'name': '461913', 'color': '#800026', 'voters': 2066.0}\n",
      "{'name': '461914', 'color': '#800026', 'voters': 2171.0}\n",
      "{'name': '461915', 'color': '#800026', 'voters': 1966.0}\n",
      "{'name': '461916', 'color': '#800026', 'voters': 2202.0}\n",
      "{'name': '461917', 'color': '#800026', 'voters': 2118.0}\n",
      "{'name': '461918', 'color': '#800026', 'voters': 2215.0}\n",
      "{'name': '461919', 'color': '#800026', 'voters': 2101.0}\n",
      "{'name': '461920', 'color': '#800026', 'voters': 2252.0}\n",
      "{'name': '461921', 'color': '#800026', 'voters': 2219.0}\n",
      "{'name': '461922', 'color': '#800026', 'voters': 1845.0}\n",
      "{'name': '461923', 'color': '#800026', 'voters': 1802.0}\n",
      "{'name': '461924', 'color': '#800026', 'voters': 2218.0}\n",
      "{'name': '461926', 'color': '#800026', 'voters': 1918.0}\n",
      "{'name': '461928', 'color': '#E31A1C', 'voters': 1364.0}\n",
      "{'name': '461931', 'color': '#800026', 'voters': 1633.0}\n",
      "{'name': '461935', 'color': '#800026', 'voters': 1628.0}\n",
      "{'name': '461937', 'color': '#800026', 'voters': 2418.0}\n",
      "{'name': '461938', 'color': '#800026', 'voters': 2088.0}\n",
      "{'name': '461941', 'color': '#800026', 'voters': 2182.0}\n",
      "{'name': '461944', 'color': '#800026', 'voters': 2178.0}\n",
      "{'name': '461946', 'color': '#800026', 'voters': 2215.0}\n",
      "{'name': '461949', 'color': '#800026', 'voters': 2259.0}\n",
      "{'name': '461951', 'color': '#800026', 'voters': 1959.0}\n",
      "{'name': '461953', 'color': '#800026', 'voters': 2148.0}\n",
      "{'name': '461956', 'color': '#800026', 'voters': 2021.0}\n",
      "{'name': '461960', 'color': '#800026', 'voters': 2438.0}\n",
      "{'name': '461963', 'color': '#800026', 'voters': 2193.0}\n",
      "{'name': '461965', 'color': '#800026', 'voters': 2108.0}\n",
      "{'name': '461968', 'color': '#800026', 'voters': 2510.0}\n",
      "{'name': '462036', 'color': '#800026', 'voters': 2020.0}\n",
      "{'name': '462037', 'color': '#800026', 'voters': 1755.0}\n",
      "{'name': '462039', 'color': '#800026', 'voters': 2236.0}\n",
      "{'name': '462043', 'color': '#800026', 'voters': 2309.0}\n",
      "{'name': '462045', 'color': '#800026', 'voters': 1957.0}\n",
      "{'name': '462049', 'color': '#800026', 'voters': 1796.0}\n",
      "{'name': '462051', 'color': '#800026', 'voters': 2404.0}\n",
      "{'name': '462052', 'color': '#800026', 'voters': 2257.0}\n",
      "{'name': '462053', 'color': '#800026', 'voters': 2160.0}\n",
      "{'name': '462054', 'color': '#800026', 'voters': 2184.0}\n",
      "{'name': '462055', 'color': '#800026', 'voters': 2504.0}\n",
      "{'name': '462056', 'color': '#800026', 'voters': 2745.0}\n",
      "{'name': '462057', 'color': '#800026', 'voters': 2170.0}\n",
      "{'name': '462058', 'color': '#800026', 'voters': 2354.0}\n",
      "{'name': '462059', 'color': '#800026', 'voters': 2239.0}\n",
      "{'name': '462060', 'color': '#800026', 'voters': 2437.0}\n",
      "{'name': '462061', 'color': '#800026', 'voters': 1938.0}\n",
      "{'name': '462062', 'color': '#800026', 'voters': 1912.0}\n",
      "{'name': '462063', 'color': '#800026', 'voters': 1682.0}\n",
      "{'name': '462064', 'color': '#800026', 'voters': 1750.0}\n",
      "{'name': '462065', 'color': '#800026', 'voters': 2345.0}\n",
      "{'name': '462066', 'color': '#800026', 'voters': 2267.0}\n",
      "{'name': '462067', 'color': '#800026', 'voters': 1801.0}\n",
      "{'name': '460988', 'color': '#800026', 'voters': 2287.0}\n",
      "{'name': '462164', 'color': '#E31A1C', 'voters': 546.0}\n",
      "{'name': '461961', 'color': '#800026', 'voters': 2502.0}\n",
      "{'name': '462137', 'color': '#800026', 'voters': 2189.0}\n",
      "{'name': '461881', 'color': '#800026', 'voters': 2134.0}\n",
      "{'name': '462002', 'color': '#800026', 'voters': 2237.0}\n",
      "{'name': '462047', 'color': '#E31A1C', 'voters': 1492.0}\n",
      "{'name': '462068', 'color': '#800026', 'voters': 1508.0}\n"
     ]
    }
   ],
   "source": [
    "for d in population_geojson['features']:\n",
    "    \n",
    "    number_of_diln = d['properties']['name']\n",
    "    col_name = \"Кількість виборців станом на 28.02.2021\"\n",
    "    res = diln.loc[diln['Номер дільниці'] == number_of_diln][col_name].values[0]\n",
    "    \n",
    "    d['properties']['voters'] = res\n",
    "    print(d['properties'])\n",
    "    "
   ]
  },
  {
   "cell_type": "code",
   "execution_count": 48,
   "metadata": {
    "ExecuteTime": {
     "end_time": "2021-03-14T21:31:25.678900Z",
     "start_time": "2021-03-14T21:31:25.613519Z"
    }
   },
   "outputs": [],
   "source": [
    "with open('diln_population.geojson', 'w') as f:\n",
    "    json.dump(population_geojson, f)"
   ]
  },
  {
   "cell_type": "markdown",
   "metadata": {},
   "source": [
    "ZNO data"
   ]
  },
  {
   "cell_type": "code",
   "execution_count": 66,
   "metadata": {
    "ExecuteTime": {
     "end_time": "2021-03-14T21:52:04.406962Z",
     "start_time": "2021-03-14T21:51:52.848694Z"
    }
   },
   "outputs": [
    {
     "name": "stderr",
     "output_type": "stream",
     "text": [
      "/home/ptrbdr/environments/work_env/lib/python3.8/site-packages/IPython/core/interactiveshell.py:3145: DtypeWarning: Columns (96,97,98,100,102,103,104,105,116,117,118,120,122,123,124,125) have mixed types.Specify dtype option on import or set low_memory=False.\n",
      "  has_raised = await self.run_ast_nodes(code_ast.body, cell_name,\n"
     ]
    }
   ],
   "source": [
    "data_zno_2020 = pd.read_csv(\"data/Odata2020File.csv\", sep=\";\", encoding='windows-1251')"
   ]
  },
  {
   "cell_type": "code",
   "execution_count": 70,
   "metadata": {
    "ExecuteTime": {
     "end_time": "2021-03-14T21:52:40.762426Z",
     "start_time": "2021-03-14T21:52:40.715448Z"
    }
   },
   "outputs": [],
   "source": [
    "t = data_zno_2020.AREANAME.value_counts().keys()"
   ]
  },
  {
   "cell_type": "code",
   "execution_count": 75,
   "metadata": {
    "ExecuteTime": {
     "end_time": "2021-03-14T21:53:12.586045Z",
     "start_time": "2021-03-14T21:53:12.567825Z"
    }
   },
   "outputs": [
    {
     "data": {
      "text/plain": [
       "['м.Київ',\n",
       " 'м.Харків',\n",
       " 'м.Одеса',\n",
       " 'м.Дніпро',\n",
       " 'м.Львів',\n",
       " 'Вінницька область',\n",
       " 'Донецька область',\n",
       " 'м.Запоріжжя',\n",
       " 'м.Кривий Ріг',\n",
       " 'Хмельницька область',\n",
       " 'Івано-Франківська область',\n",
       " 'Київська область',\n",
       " 'Волинська область',\n",
       " 'Дніпропетровська область',\n",
       " 'Тернопільська область',\n",
       " 'Львівська область',\n",
       " 'м.Миколаїв',\n",
       " 'Закарпатська область',\n",
       " 'Рівненська область',\n",
       " 'м.Херсон',\n",
       " 'м.Житомир',\n",
       " 'м.Чернівці',\n",
       " 'м.Маріуполь',\n",
       " 'Одеська область',\n",
       " 'м.Полтава',\n",
       " 'Запорізька область',\n",
       " 'Сумська область',\n",
       " 'м.Чернігів',\n",
       " 'м.Черкаси',\n",
       " 'м.Суми',\n",
       " 'м.Кропивницький',\n",
       " \"м.Кам'янське\",\n",
       " 'Черкаська область',\n",
       " 'Луганська область',\n",
       " 'Житомирська область',\n",
       " 'Харківська область',\n",
       " 'м.Кременчук',\n",
       " 'Чернігівська область',\n",
       " 'Полтавська область',\n",
       " 'Миколаївська область',\n",
       " 'Тячівський район',\n",
       " 'Кіровоградська область',\n",
       " 'Києво-Святошинський район',\n",
       " 'Сарненський район',\n",
       " 'Надвірнянський район',\n",
       " 'Херсонська область',\n",
       " 'Яворівський район',\n",
       " 'Харківський район',\n",
       " 'Виноградівський район',\n",
       " 'Золочівський район',\n",
       " 'Березнівський район',\n",
       " 'Рокитнівський район',\n",
       " 'Жовківський район',\n",
       " 'Іршавський район',\n",
       " 'Городоцький район',\n",
       " 'Рахівський район',\n",
       " 'Рівненський район',\n",
       " 'Миколаївський район',\n",
       " 'Пустомитівський район',\n",
       " 'Сторожинецький район',\n",
       " 'Володимирецький район',\n",
       " 'Сокальський район',\n",
       " 'Долинський район',\n",
       " 'Овідіопольський район',\n",
       " 'Волноваський район',\n",
       " 'Старобільський район',\n",
       " 'Хустський район',\n",
       " 'Камінь-Каширський район',\n",
       " 'Костопільський район',\n",
       " 'Косівський район',\n",
       " 'Барський район',\n",
       " 'Біляївський район',\n",
       " 'Коломийський район',\n",
       " 'Бородянський район',\n",
       " 'Генічеський район',\n",
       " 'Маневицький район',\n",
       " 'Глибоцький район',\n",
       " 'Василівський район',\n",
       " 'Тульчинський район',\n",
       " 'Бучацький район',\n",
       " 'Рожнятівський район',\n",
       " 'Васильківський район',\n",
       " 'Бродівський район',\n",
       " 'Вишгородський район',\n",
       " 'Мукачівський район',\n",
       " \"Мар'їнський район\",\n",
       " 'Хотинський район',\n",
       " 'Свалявський район',\n",
       " 'Вижницький район',\n",
       " 'Старосамбірський район',\n",
       " 'Богородчанський район',\n",
       " 'Міжгірський район',\n",
       " 'Борщівський район',\n",
       " 'Красноградський район',\n",
       " 'Ратнівський район',\n",
       " 'Балаклійський район',\n",
       " 'Новоселицький район',\n",
       " 'Бериславський район',\n",
       " 'Мостиський район',\n",
       " 'Жидачівський район',\n",
       " 'Лиманський район',\n",
       " 'Луцький район',\n",
       " 'Дніпровський район',\n",
       " 'Калинівський район',\n",
       " 'Олешківський район',\n",
       " 'Кіцманський район',\n",
       " 'Гусятинський район',\n",
       " 'Дергачівський район',\n",
       " 'Коростишівський район',\n",
       " 'Броварський район',\n",
       " 'Ківерцівський район',\n",
       " 'Здолбунівський район',\n",
       " 'Богуславський район',\n",
       " 'Зміївський район',\n",
       " 'Кременецький район',\n",
       " 'Новомосковський район',\n",
       " 'Шаргородський район',\n",
       " 'Заліщицький район',\n",
       " 'Дубровицький район',\n",
       " 'Болградський район',\n",
       " 'Снятинський район',\n",
       " \"Кам'янка-Бузький район\",\n",
       " 'Самбірський район',\n",
       " 'Корсунь-Шевченківський район',\n",
       " 'Горохівський район',\n",
       " 'Заставнівський район',\n",
       " 'Пологівський район',\n",
       " 'Турківський район',\n",
       " 'Овруцький район',\n",
       " 'Апостолівський район',\n",
       " 'Гайсинський район',\n",
       " 'Тисменицький район',\n",
       " 'Любешівський район',\n",
       " 'Скадовський район',\n",
       " 'Роздільнянський район',\n",
       " 'Теребовлянський район',\n",
       " 'Олевський район',\n",
       " 'Бориспільський район',\n",
       " 'Ізмаїльський район',\n",
       " 'Збаразький район',\n",
       " 'Ужгородський район',\n",
       " 'Козелецький район',\n",
       " 'Тростянецький район',\n",
       " 'Кілійський район',\n",
       " 'Вінницький район',\n",
       " 'Дунаєвецький район',\n",
       " 'Дрогобицький район',\n",
       " 'Покровський район',\n",
       " 'Кремінський район',\n",
       " 'Білозерський район',\n",
       " 'м.Івано-Франківськ',\n",
       " 'Бахмутський район',\n",
       " 'Оріхівський район',\n",
       " 'Радехівський район',\n",
       " 'Іллінецький район',\n",
       " 'Чугуївський район',\n",
       " 'Зарічненський район',\n",
       " 'Хорольський район',\n",
       " 'Жашківський район',\n",
       " 'Городенківський район',\n",
       " 'Новоукраїнський район',\n",
       " 'Любомльський район',\n",
       " 'Дубенський район',\n",
       " 'Вовчанський район',\n",
       " 'Буський район',\n",
       " 'Немирівський район',\n",
       " 'Красилівський район',\n",
       " 'Добровеличківський район',\n",
       " 'Чернігівський район',\n",
       " 'Ямпільський район',\n",
       " 'Березівський район',\n",
       " 'Сколівський район',\n",
       " 'Снігурівський район',\n",
       " 'Сокирянський район',\n",
       " 'Радивилівський район',\n",
       " 'Рожищенський район',\n",
       " 'Тиврівський район',\n",
       " 'Тальнівський район',\n",
       " 'Гайворонський район',\n",
       " 'Звенигородський район',\n",
       " 'Бершадський район',\n",
       " 'Рогатинський район',\n",
       " 'Карлівський район',\n",
       " 'Зборівський район',\n",
       " 'Путивльський район',\n",
       " 'Черкаський район',\n",
       " 'Полтавський район',\n",
       " 'Миронівський район',\n",
       " 'Новобузький район',\n",
       " 'Попаснянський район',\n",
       " 'Корецький район',\n",
       " 'Білгород-Дністровський район',\n",
       " 'Баштанський район',\n",
       " 'Любарський район',\n",
       " 'Маловисківський район',\n",
       " 'Волочиський район',\n",
       " 'Приморський район',\n",
       " 'Полонський район',\n",
       " 'Радомишльський район',\n",
       " 'Баранівський район',\n",
       " 'Крижопільський район',\n",
       " 'Іваничівський район',\n",
       " 'Вітовський район',\n",
       " 'Ізяславський район',\n",
       " 'Стрийський район',\n",
       " 'Таращанський район',\n",
       " 'Калуський район',\n",
       " 'Станично-Луганський район',\n",
       " 'Лохвицький район',\n",
       " 'Перемишлянський район',\n",
       " 'Мелітопольський район',\n",
       " 'Черняхівський район',\n",
       " 'Верхньодніпровський район',\n",
       " 'Чорнобаївський район',\n",
       " 'Запорізький район',\n",
       " 'Млинівський район',\n",
       " 'Білоцерківський район',\n",
       " 'Великоновосілківський район',\n",
       " 'Арцизький район',\n",
       " \"м.Куп'янськ\",\n",
       " 'Гощанський район',\n",
       " 'Підволочиський район',\n",
       " 'Саратський район',\n",
       " 'Катеринопільський район',\n",
       " 'Іванівський район',\n",
       " 'Берегівський район',\n",
       " 'Пирятинський район',\n",
       " 'Сквирський район',\n",
       " 'Городищенський район',\n",
       " 'Чортківський район',\n",
       " 'м.Добропілля',\n",
       " 'Житомирський район',\n",
       " 'Семенівський район',\n",
       " 'Вільнянський район',\n",
       " \"Кам'янсько-Дніпровський район\",\n",
       " 'Новоодеський район',\n",
       " 'Тлумацький район',\n",
       " 'Яготинський район',\n",
       " 'Глобинський район',\n",
       " 'Голопристанський район',\n",
       " 'Ананьївський район',\n",
       " 'Якимівський район',\n",
       " 'Томашпільський район',\n",
       " 'Магдалинівський район',\n",
       " 'Татарбунарський район',\n",
       " 'Ренійський район',\n",
       " 'Шумський район',\n",
       " 'Путильський район',\n",
       " 'Білопільський район',\n",
       " 'Бахмацький район',\n",
       " 'Новоград-Волинський район',\n",
       " 'Козятинський район',\n",
       " 'Старовижівський район',\n",
       " 'Обухівський район',\n",
       " 'Савранський район',\n",
       " 'Кобеляцький район',\n",
       " 'Сумський район',\n",
       " 'Богодухівський район',\n",
       " 'Погребищенський район',\n",
       " 'Ковельський район',\n",
       " 'Криничанський район',\n",
       " 'Липовецький район',\n",
       " 'Шепетівський район',\n",
       " 'Нововодолазький район',\n",
       " 'Сватівський район',\n",
       " 'Каховський район',\n",
       " 'Олександрівський район',\n",
       " 'Герцаївський район',\n",
       " 'Первомайський район',\n",
       " 'Верховинський район',\n",
       " 'Малинський район',\n",
       " 'Монастирищенський район',\n",
       " 'Солонянський район',\n",
       " \"П'ятихатський район\",\n",
       " 'Чуднівський район',\n",
       " 'Решетилівський район',\n",
       " 'Хорошівський район',\n",
       " 'Тарутинський район',\n",
       " 'Жмеринський район',\n",
       " 'Новоайдарський район',\n",
       " 'Ємільчинський район',\n",
       " 'Менський район',\n",
       " 'Чаплинський район',\n",
       " 'Маньківський район',\n",
       " 'Чемеровецький район',\n",
       " 'Шполянський район',\n",
       " 'Золотоніський район',\n",
       " 'Бобровицький район',\n",
       " 'Кролевецький район',\n",
       " 'Літинський район',\n",
       " 'Рокитнянський район',\n",
       " 'Кельменецький район',\n",
       " 'Макарівський район',\n",
       " 'Перечинський район',\n",
       " 'Уманський район',\n",
       " 'Тернопільський район',\n",
       " \"Кам'янець-Подільський район\",\n",
       " 'Тетіївський район',\n",
       " 'Краснокутський район',\n",
       " 'Новопсковський район',\n",
       " 'Голованівський район',\n",
       " 'Кривоозерський район',\n",
       " 'Новотроїцький район',\n",
       " 'Бобринецький район',\n",
       " 'Носівський район',\n",
       " 'Петриківський район',\n",
       " 'Хмельницький район',\n",
       " 'Олександрійський район',\n",
       " \"Слов'янський район\",\n",
       " 'Новоархангельський район',\n",
       " 'Зіньківський район',\n",
       " 'Андрушівський район',\n",
       " 'Борзнянський район',\n",
       " 'Турійський район',\n",
       " 'Великомихайлівський район',\n",
       " 'Романівський район',\n",
       " 'Ярмолинецький район',\n",
       " 'Теплицький район',\n",
       " 'Новосанжарський район',\n",
       " 'Христинівський район',\n",
       " 'Чигиринський район',\n",
       " 'Новоушицький район',\n",
       " 'Галицький район',\n",
       " 'Новомиргородський район',\n",
       " 'м.Ірпінь',\n",
       " 'Лановецький район',\n",
       " 'Токмацький район',\n",
       " 'Томаківський район',\n",
       " 'Приазовський район',\n",
       " 'Шацький район',\n",
       " 'Царичанський район',\n",
       " 'Бердичівський район',\n",
       " 'Лубенський район',\n",
       " 'Деражнянський район',\n",
       " 'Острозький район',\n",
       " 'Володарський район',\n",
       " 'Миргородський район',\n",
       " 'Демидівський район',\n",
       " 'Городнянський район',\n",
       " 'Благовіщенський район',\n",
       " 'Лисянський район',\n",
       " 'Монастириський район',\n",
       " 'Валківський район',\n",
       " 'Корюківський район',\n",
       " 'Баришівський район',\n",
       " 'Кагарлицький район',\n",
       " 'Сновський район',\n",
       " 'Кіровоградський район',\n",
       " 'Синельниківський район',\n",
       " 'Любашівський район',\n",
       " 'Шишацький район',\n",
       " 'Прилуцький район',\n",
       " 'Кегичівський район',\n",
       " 'Теофіпольський район',\n",
       " 'Михайлівський район',\n",
       " 'Ічнянський район',\n",
       " 'Ставищенський район',\n",
       " \"Кам'янський район\",\n",
       " 'Нікольський район',\n",
       " 'Межівський район',\n",
       " 'Хмільницький район',\n",
       " 'Летичівський район',\n",
       " 'м.Лисичанськ',\n",
       " 'Чернівецький район',\n",
       " 'Великобагачанський район',\n",
       " 'Ширяївський район',\n",
       " 'Арбузинський район',\n",
       " 'Локачинський район',\n",
       " 'Іванківський район',\n",
       " 'Краснопільський район',\n",
       " 'Біловодський район',\n",
       " 'Козівський район',\n",
       " 'Доманівський район',\n",
       " 'Нововоронцовський район',\n",
       " 'Вознесенський район',\n",
       " 'Драбівський район',\n",
       " 'Пулинський район',\n",
       " 'Ружинський район',\n",
       " 'Великоолександрівський район',\n",
       " 'Гуляйпільський район',\n",
       " 'Білогірський район',\n",
       " 'Веселівський район',\n",
       " 'Славутський район',\n",
       " 'Мангушський район',\n",
       " 'Великоберезнянський район',\n",
       " 'Марківський район',\n",
       " 'Криворізький район',\n",
       " 'Підгаєцький район',\n",
       " 'Білокуракинський район',\n",
       " 'Петропавлівський район',\n",
       " 'Коростенський район',\n",
       " 'Ріпкинський район',\n",
       " 'Мурованокуриловецький район',\n",
       " 'Старокостянтинівський район',\n",
       " \"Знам'янський район\",\n",
       " 'Роменський район',\n",
       " 'Нікопольський район',\n",
       " 'Попільнянський район',\n",
       " 'Новгородківський район',\n",
       " 'Софіївський район',\n",
       " 'Гадяцький район',\n",
       " 'Кременчуцький район',\n",
       " 'Бердянський район',\n",
       " 'Переяслав-Хмельницький район',\n",
       " 'Павлоградський район',\n",
       " 'Фастівський район',\n",
       " 'Компаніївський район',\n",
       " 'Лебединський район',\n",
       " 'Костянтинівський район',\n",
       " 'Великобурлуцький район',\n",
       " 'Барвінківський район',\n",
       " 'Сосницький район',\n",
       " 'Воловецький район',\n",
       " 'Казанківський район',\n",
       " 'Згурівський район',\n",
       " 'Шевченківський район',\n",
       " 'м.Дрогобич',\n",
       " 'Котелевський район',\n",
       " 'Більмацький район',\n",
       " 'Диканський район',\n",
       " 'Каланчацький район',\n",
       " 'Окнянський район',\n",
       " 'Коропський район',\n",
       " 'Кодимський район',\n",
       " 'Братський район',\n",
       " 'Конотопський район',\n",
       " 'Березнегуватський район',\n",
       " 'Буринський район',\n",
       " 'Захарівський район',\n",
       " 'Лугинський район',\n",
       " 'Оржицький район',\n",
       " 'Веселинівський район',\n",
       " 'Гребінківський район',\n",
       " 'Широківський район',\n",
       " 'Чутівський район',\n",
       " 'м.Торецьк',\n",
       " 'Великописарівський район',\n",
       " 'Варвинський район',\n",
       " 'Недригайлівський район',\n",
       " 'Врадіївський район',\n",
       " 'Володимир-Волинський район',\n",
       " 'Високопільський район',\n",
       " 'Березанський район',\n",
       " 'Куликівський район',\n",
       " 'Смілянський район',\n",
       " 'Могилів-Подільський район',\n",
       " 'Єланецький район',\n",
       " 'м.Селидове',\n",
       " 'Срібнянський район',\n",
       " 'Чернівецька область',\n",
       " 'Онуфріївський район',\n",
       " 'м.Яремче',\n",
       " 'Великолепетиський район',\n",
       " 'Козельщинський район',\n",
       " 'Бережанський район',\n",
       " 'Лозівський район',\n",
       " 'Глухівський район',\n",
       " 'Оратівський район',\n",
       " 'Віньковецький район',\n",
       " 'Близнюківський район',\n",
       " 'Сахновщинський район',\n",
       " 'Охтирський район',\n",
       " 'Піщанський район',\n",
       " \"Юр'ївський район\",\n",
       " 'м.Червоноград',\n",
       " 'Троїцький район',\n",
       " 'Балтський район',\n",
       " 'Зачепилівський район',\n",
       " 'Старосинявський район',\n",
       " 'Ізюмський район',\n",
       " 'Міловський район',\n",
       " 'Брусилівський район',\n",
       " 'Борівський район',\n",
       " 'Машівський район',\n",
       " 'Нижньосірогозький район',\n",
       " 'Середино-Будський район',\n",
       " 'Очаківський район',\n",
       " 'Талалаївський район',\n",
       " 'Канівський район',\n",
       " 'Горностаївський район',\n",
       " 'Ніжинський район',\n",
       " 'Добропільський район',\n",
       " \"Куп'янський район\",\n",
       " 'м.Покровськ',\n",
       " 'Подільський район',\n",
       " 'Шосткинський район',\n",
       " 'Чечельницький район',\n",
       " 'Петрівський район',\n",
       " 'Вільшанський район',\n",
       " 'Липоводолинський район',\n",
       " 'м.Болехів',\n",
       " 'Великобілозерський район',\n",
       " 'Новомиколаївський район',\n",
       " 'Дворічанський район',\n",
       " 'Верхньорогачицький район',\n",
       " 'Розівський район',\n",
       " 'Світловодський район',\n",
       " 'Новгород-Сіверський район',\n",
       " 'Чорнухинський район',\n",
       " 'м.Олександрія',\n",
       " 'м.Чорноморськ',\n",
       " 'м.Нова Каховка',\n",
       " 'Ясинуватський район',\n",
       " 'Народицький район',\n",
       " 'Устинівський район',\n",
       " 'м.Лозова',\n",
       " 'Поліський район',\n",
       " 'Коломацький район',\n",
       " 'м.Краматорськ',\n",
       " 'м.Дружківка',\n",
       " 'м.Білгород-Дністровський',\n",
       " 'м.Сєвєродонецьк',\n",
       " 'Печенізький район',\n",
       " \"м.Слов'янськ\",\n",
       " 'м.Світловодськ',\n",
       " 'м.Конотоп',\n",
       " \"м.Знам'янка\",\n",
       " 'м.Борислав',\n",
       " 'м.Бердянськ',\n",
       " 'м.Нововолинськ',\n",
       " 'м.Люботин',\n",
       " 'м.Хуст',\n",
       " 'м.Обухів',\n",
       " 'м.Чугуїв',\n",
       " 'м.Охтирка',\n",
       " 'м.Лебедин',\n",
       " 'м.Берегове',\n",
       " 'м.Покров']"
      ]
     },
     "execution_count": 75,
     "metadata": {},
     "output_type": "execute_result"
    }
   ],
   "source": [
    "list(t)"
   ]
  },
  {
   "cell_type": "code",
   "execution_count": 82,
   "metadata": {
    "ExecuteTime": {
     "end_time": "2021-03-14T21:54:32.820267Z",
     "start_time": "2021-03-14T21:54:32.612746Z"
    }
   },
   "outputs": [],
   "source": [
    "lviv_data_2020 = data_zno_2020[data_zno_2020.AREANAME.str.contains(\"м.Львів\")]"
   ]
  },
  {
   "cell_type": "code",
   "execution_count": 83,
   "metadata": {
    "ExecuteTime": {
     "end_time": "2021-03-14T21:54:49.698149Z",
     "start_time": "2021-03-14T21:54:49.130105Z"
    }
   },
   "outputs": [],
   "source": [
    "lviv_data_2020.to_csv(\"lviv_data_2020\", index=False)"
   ]
  },
  {
   "cell_type": "code",
   "execution_count": 120,
   "metadata": {
    "ExecuteTime": {
     "end_time": "2021-03-14T22:04:27.557429Z",
     "start_time": "2021-03-14T22:04:27.343694Z"
    }
   },
   "outputs": [],
   "source": [
    "lviv_data_2020 = pd.read_csv(\"lviv_data_2020.csv\")"
   ]
  },
  {
   "cell_type": "code",
   "execution_count": 93,
   "metadata": {
    "ExecuteTime": {
     "end_time": "2021-03-14T21:57:27.128828Z",
     "start_time": "2021-03-14T21:57:27.119416Z"
    }
   },
   "outputs": [
    {
     "data": {
      "text/plain": [
       "['OUTID',\n",
       " 'Birth',\n",
       " 'SEXTYPENAME',\n",
       " 'REGNAME',\n",
       " 'AREANAME',\n",
       " 'TERNAME',\n",
       " 'REGTYPENAME',\n",
       " 'TerTypeName',\n",
       " 'ClassProfileNAME',\n",
       " 'ClassLangName',\n",
       " 'EONAME',\n",
       " 'EOTYPENAME',\n",
       " 'EORegName',\n",
       " 'EOAreaName',\n",
       " 'EOTerName',\n",
       " 'EOParent',\n",
       " 'UkrTest',\n",
       " 'UkrTestStatus',\n",
       " 'UkrBall100',\n",
       " 'UkrBall12',\n",
       " 'UkrBall',\n",
       " 'UkrAdaptScale',\n",
       " 'UkrPTName',\n",
       " 'UkrPTRegName',\n",
       " 'UkrPTAreaName',\n",
       " 'UkrPTTerName',\n",
       " 'histTest',\n",
       " 'HistLang',\n",
       " 'histTestStatus',\n",
       " 'histBall100',\n",
       " 'histBall12',\n",
       " 'histBall',\n",
       " 'histPTName',\n",
       " 'histPTRegName',\n",
       " 'histPTAreaName',\n",
       " 'histPTTerName',\n",
       " 'mathTest',\n",
       " 'mathLang',\n",
       " 'mathTestStatus',\n",
       " 'mathBall100',\n",
       " 'mathBall12',\n",
       " 'mathBall',\n",
       " 'mathPTName',\n",
       " 'mathPTRegName',\n",
       " 'mathPTAreaName',\n",
       " 'mathPTTerName',\n",
       " 'physTest',\n",
       " 'physLang',\n",
       " 'physTestStatus',\n",
       " 'physBall100',\n",
       " 'physBall12',\n",
       " 'physBall',\n",
       " 'physPTName',\n",
       " 'physPTRegName',\n",
       " 'physPTAreaName',\n",
       " 'physPTTerName',\n",
       " 'chemTest',\n",
       " 'chemLang',\n",
       " 'chemTestStatus',\n",
       " 'chemBall100',\n",
       " 'chemBall12',\n",
       " 'chemBall',\n",
       " 'chemPTName',\n",
       " 'chemPTRegName',\n",
       " 'chemPTAreaName',\n",
       " 'chemPTTerName',\n",
       " 'bioTest',\n",
       " 'bioLang',\n",
       " 'bioTestStatus',\n",
       " 'bioBall100',\n",
       " 'bioBall12',\n",
       " 'bioBall',\n",
       " 'bioPTName',\n",
       " 'bioPTRegName',\n",
       " 'bioPTAreaName',\n",
       " 'bioPTTerName',\n",
       " 'geoTest',\n",
       " 'geoLang',\n",
       " 'geoTestStatus',\n",
       " 'geoBall100',\n",
       " 'geoBall12',\n",
       " 'geoBall',\n",
       " 'geoPTName',\n",
       " 'geoPTRegName',\n",
       " 'geoPTAreaName',\n",
       " 'geoPTTerName',\n",
       " 'engTest',\n",
       " 'engTestStatus',\n",
       " 'engBall100',\n",
       " 'engBall12',\n",
       " 'engDPALevel',\n",
       " 'engBall',\n",
       " 'engPTName',\n",
       " 'engPTRegName',\n",
       " 'engPTAreaName',\n",
       " 'engPTTerName',\n",
       " 'fraTest',\n",
       " 'fraTestStatus',\n",
       " 'fraBall100',\n",
       " 'fraBall12',\n",
       " 'fraDPALevel',\n",
       " 'fraBall',\n",
       " 'fraPTName',\n",
       " 'fraPTRegName',\n",
       " 'fraPTAreaName',\n",
       " 'fraPTTerName',\n",
       " 'deuTest',\n",
       " 'deuTestStatus',\n",
       " 'deuBall100',\n",
       " 'deuBall12',\n",
       " 'deuDPALevel',\n",
       " 'deuBall',\n",
       " 'deuPTName',\n",
       " 'deuPTRegName',\n",
       " 'deuPTAreaName',\n",
       " 'deuPTTerName',\n",
       " 'spaTest',\n",
       " 'spaTestStatus',\n",
       " 'spaBall100',\n",
       " 'spaBall12',\n",
       " 'spaDPALevel',\n",
       " 'spaBall',\n",
       " 'spaPTName',\n",
       " 'spaPTRegName',\n",
       " 'spaPTAreaName',\n",
       " 'spaPTTerName']"
      ]
     },
     "execution_count": 93,
     "metadata": {},
     "output_type": "execute_result"
    }
   ],
   "source": [
    "lviv_data_2020.columns.tolist()"
   ]
  },
  {
   "cell_type": "code",
   "execution_count": 100,
   "metadata": {
    "ExecuteTime": {
     "end_time": "2021-03-14T21:59:04.692460Z",
     "start_time": "2021-03-14T21:59:04.683732Z"
    }
   },
   "outputs": [
    {
     "data": {
      "text/plain": [
       "2647"
      ]
     },
     "execution_count": 100,
     "metadata": {},
     "output_type": "execute_result"
    }
   ],
   "source": [
    "sum(lviv_data_2020.UkrBall100.isnull())"
   ]
  },
  {
   "cell_type": "code",
   "execution_count": 129,
   "metadata": {
    "ExecuteTime": {
     "end_time": "2021-03-14T22:07:36.478627Z",
     "start_time": "2021-03-14T22:07:36.468337Z"
    }
   },
   "outputs": [],
   "source": [
    "schools_full_lviv = pd.read_csv(\"schools_full_lviv.csv\")"
   ]
  },
  {
   "cell_type": "code",
   "execution_count": 127,
   "metadata": {
    "ExecuteTime": {
     "end_time": "2021-03-14T22:06:53.812907Z",
     "start_time": "2021-03-14T22:06:53.784788Z"
    }
   },
   "outputs": [],
   "source": [
    "import fuzzymatcher"
   ]
  },
  {
   "cell_type": "code",
   "execution_count": 133,
   "metadata": {
    "ExecuteTime": {
     "end_time": "2021-03-14T22:08:39.919558Z",
     "start_time": "2021-03-14T22:08:39.914079Z"
    }
   },
   "outputs": [
    {
     "data": {
      "text/plain": [
       "117"
      ]
     },
     "execution_count": 133,
     "metadata": {},
     "output_type": "execute_result"
    }
   ],
   "source": [
    "len(schools_full_lviv)"
   ]
  },
  {
   "cell_type": "code",
   "execution_count": 128,
   "metadata": {
    "ExecuteTime": {
     "end_time": "2021-03-14T22:07:21.380602Z",
     "start_time": "2021-03-14T22:07:21.356071Z"
    }
   },
   "outputs": [],
   "source": [
    "grouped_zno_results = lviv_data_2020.groupby(\"EONAME\", as_index=False).mean()"
   ]
  },
  {
   "cell_type": "code",
   "execution_count": 222,
   "metadata": {
    "ExecuteTime": {
     "end_time": "2021-03-14T22:36:48.623862Z",
     "start_time": "2021-03-14T22:36:48.509466Z"
    }
   },
   "outputs": [],
   "source": [
    "pd.DataFrame(grouped_zno_results.EONAME).to_clipboard(index=False)"
   ]
  },
  {
   "cell_type": "code",
   "execution_count": 134,
   "metadata": {
    "ExecuteTime": {
     "end_time": "2021-03-14T22:08:44.692660Z",
     "start_time": "2021-03-14T22:08:44.397888Z"
    }
   },
   "outputs": [],
   "source": [
    "matched = fuzzymatcher.fuzzy_left_join(schools_full_lviv, grouped_zno_results, left_on='school_full_name', right_on=\"EONAME\")"
   ]
  },
  {
   "cell_type": "code",
   "execution_count": 138,
   "metadata": {
    "ExecuteTime": {
     "end_time": "2021-03-14T22:09:36.254174Z",
     "start_time": "2021-03-14T22:09:36.229895Z"
    }
   },
   "outputs": [
    {
     "data": {
      "text/html": [
       "<div>\n",
       "<style scoped>\n",
       "    .dataframe tbody tr th:only-of-type {\n",
       "        vertical-align: middle;\n",
       "    }\n",
       "\n",
       "    .dataframe tbody tr th {\n",
       "        vertical-align: top;\n",
       "    }\n",
       "\n",
       "    .dataframe thead th {\n",
       "        text-align: right;\n",
       "    }\n",
       "</style>\n",
       "<table border=\"1\" class=\"dataframe\">\n",
       "  <thead>\n",
       "    <tr style=\"text-align: right;\">\n",
       "      <th></th>\n",
       "      <th>registration_code</th>\n",
       "      <th>school_short_name</th>\n",
       "      <th>school_full_name</th>\n",
       "      <th>school_old_name</th>\n",
       "      <th>district</th>\n",
       "      <th>education_office</th>\n",
       "      <th>post_adress</th>\n",
       "      <th>longitude</th>\n",
       "      <th>latitude</th>\n",
       "      <th>places_amount</th>\n",
       "      <th>pupils</th>\n",
       "      <th>staf</th>\n",
       "      <th>students_per_teacher</th>\n",
       "    </tr>\n",
       "  </thead>\n",
       "  <tbody>\n",
       "    <tr>\n",
       "      <th>41</th>\n",
       "      <td>34711678</td>\n",
       "      <td>Львівська лінгвістична гімназія</td>\n",
       "      <td>Львівська лінгвістична гімназія</td>\n",
       "      <td>Львівська лінгвістична гімназія</td>\n",
       "      <td>Галицький</td>\n",
       "      <td>Відділ освіти Галицького та Франківського районів</td>\n",
       "      <td>79005, м. Львів, вул. Кирила і Мефодія, 17а</td>\n",
       "      <td>24.031107</td>\n",
       "      <td>49.832322</td>\n",
       "      <td>800.0</td>\n",
       "      <td>808</td>\n",
       "      <td>116.53</td>\n",
       "      <td>6.933837</td>\n",
       "    </tr>\n",
       "  </tbody>\n",
       "</table>\n",
       "</div>"
      ],
      "text/plain": [
       "    registration_code                school_short_name  \\\n",
       "41           34711678  Львівська лінгвістична гімназія   \n",
       "\n",
       "                   school_full_name                  school_old_name  \\\n",
       "41  Львівська лінгвістична гімназія  Львівська лінгвістична гімназія   \n",
       "\n",
       "     district                                   education_office  \\\n",
       "41  Галицький  Відділ освіти Галицького та Франківського районів   \n",
       "\n",
       "                                    post_adress  longitude   latitude  \\\n",
       "41  79005, м. Львів, вул. Кирила і Мефодія, 17а  24.031107  49.832322   \n",
       "\n",
       "    places_amount  pupils    staf  students_per_teacher  \n",
       "41          800.0     808  116.53              6.933837  "
      ]
     },
     "execution_count": 138,
     "metadata": {},
     "output_type": "execute_result"
    }
   ],
   "source": [
    "schools_full_lviv.loc[schools_full_lviv.school_full_name.str.contains(\"лінгві\")]"
   ]
  },
  {
   "cell_type": "code",
   "execution_count": 143,
   "metadata": {
    "ExecuteTime": {
     "end_time": "2021-03-14T22:11:35.194178Z",
     "start_time": "2021-03-14T22:11:35.187762Z"
    }
   },
   "outputs": [
    {
     "data": {
      "text/plain": [
       "154"
      ]
     },
     "execution_count": 143,
     "metadata": {},
     "output_type": "execute_result"
    }
   ],
   "source": [
    "len(grouped_zno_results.EONAME.unique())"
   ]
  },
  {
   "cell_type": "code",
   "execution_count": 151,
   "metadata": {
    "ExecuteTime": {
     "end_time": "2021-03-14T22:13:23.797242Z",
     "start_time": "2021-03-14T22:13:23.776925Z"
    }
   },
   "outputs": [
    {
     "name": "stdout",
     "output_type": "stream",
     "text": [
      "Гімназія «Провесінь» Львівської міської ради | Львівська лінгвістична гімназія Львівської міської ради Львівської області\n",
      "\n",
      "Гімназія «Тривіта» Львівської міської ради | Львівська лінгвістична гімназія Львівської міської ради Львівської області\n",
      "\n",
      "Загальноосвітня середня школа I-III ступенів «Лідер» з різними формами навчання | Загальноосвітня середня школа І-ІІІ ступенів \"Лідер\" з різними формами навчання\n",
      "\n",
      "Загальноосвітня школа «Берегиня» м. Львова | Середня загальноосвітня школа №1 м. Львова\n",
      "\n",
      "Ліцей №24 ім. М. Конопницької  | Львівська загальноосвітня школа І-ІІІ ступенів №24 ім. М. Конопницької\n",
      "\n",
      "Класична гімназія при Львівському національному університеті ім. Івана Франка | Класична гімназія при Львівському національному університеті імені Івана Франка\n",
      "\n",
      "Ліцей “Інтелект“ Львівської міської ради | Ліцей \"Інтелект\" Львівської міської ради\n",
      "\n",
      "Ліцей \"Львівський\" | Ліцей \"Львівський\" Львівської міської ради\n",
      "\n",
      "Ліцей \"Надія\" Львівської міської ради | Ліцей \"Надія\" Львівської міської ради\n",
      "\n",
      "Ліцей \"Просвіта\" | Ліцей \"Просвіта\" Львівської міської ради\n",
      "\n",
      "Ліцей \"Сихівський\" | Ліцей \"Сихівський\" Львівської міської ради\n",
      "\n",
      "Ліцей №15 Львівської міської ради | Ліцей №15 Львівської міської ради\n",
      "\n",
      "Ліцей №18 Львівської міської ради | Ліцей №18 Львівської міської ради\n",
      "\n",
      "Ліцей №2 Львівської міської ради | Ліцей №2 Львівської міської ради\n",
      "\n",
      "Ліцей №21 Львівської міської ради | Ліцей №21 Львівської міської ради\n",
      "\n",
      "Ліцей №28 Львівської міської ради | Ліцей №28 Львівської міської ради\n",
      "\n",
      "Ліцей №37 Львівської міської ради | Ліцей №37 Львівської міської ради\n",
      "\n",
      "Ліцей №38 Львівської міської ради | Ліцей №38 Львівської міської ради\n",
      "\n",
      "Ліцей №45 Львівської міської ради | Ліцей № 45 Львівської міської ради\n",
      "\n",
      "Ліцей №46 ім. В'ячеслава Чорновола Львівської міської ради | Ліцей №46 ім.В'ячеслава Чорновола Львівської міської ради\n",
      "\n",
      "Ліцей №5 ім. Іванни та Іллі Кокорудзів Львівської міської ради | Ліцей №5 імені Іванни та Іллі Кокорудзів Львівської міської ради\n",
      "\n",
      "Ліцей №51 ім. Івана Франка Львівської міської ради | Ліцей № 51 імені Івана Франка Львівської міської ради\n",
      "\n",
      "Ліцей №52 ім. М. Лобачевського Львівської міської ради | Ліцей №52 ім. М. Лобачевського Львівської міської ради\n",
      "\n",
      "Ліцей №57 імені Короля Данила Львівської міської ради | Ліцей №57 імені Короля Данила Львівської міської ради\n",
      "\n",
      "Ліцей №66 Львівської міської ради | Ліцей №66 Львівської міської ради\n",
      "\n",
      "Ліцей №75 імені Лесі Українки Львівської міської ради | Ліцей №75 імені Лесі Українки Львівської міської ради\n",
      "\n",
      "Ліцей №8 Львівської міської ради | Ліцей №8 Львівської міської ради\n",
      "\n",
      "Ліцей №80 Львівської міської ради | Ліцей \"Львівський\" Львівської міської ради\n",
      "\n",
      "Ліцей №81 імені Петра Сагайдачного Львівської міської ради | Ліцей №81 ім.Петра Сагайдачного Львівської міської ради\n",
      "\n",
      "Ліцей №93 Львівської міської ради | Ліцей №93 Львівської міської ради\n",
      "\n",
      "Ліцей №94 Львівської міської ради | Ліцей №94 Львівської міської ради\n",
      "\n",
      "Ліцей ім. В. Симоненка Львівської міської ради | Ліцей імені Василя Симоненка Львівської міської ради\n",
      "\n",
      "Ліцей ім. І. Пулюя | Ліцей імені Івана Пулюя Львівської міської ради\n",
      "\n",
      "Ліцей міжнародних відносин ім. В. Стуса Львівської міської ради | Ліцей міжнародних відносин ім. В. Стуса Львівської міської ради\n",
      "\n",
      "Львівська академічна гімназія при Національному університеті \"Львівська політехніка\" | Львівська академічна гімназія при Національному університеті \"Львівська політехніка\"\n",
      "\n",
      "Львівська гімназія \"Євшан\" | Львівська гімназія \"Євшан\"\n",
      "\n",
      "Львівська гімназія \"Престиж\" з поглибленим вивченням іноземних мов | Львівська гімназія \"Престиж\" з поглибленим вивченням іноземних мов Львівської міської ради\n",
      "\n",
      "Львівська державна комунальна середня загальноосвітня школа №3 | Львівська державна комунальна середня загальноосвітня школа №3\n",
      "\n",
      "Львівська загальноосвітня школа I-III ступенів №82 Львівської міської ради Львівської області | Львівська загальноосвітня школа І-ІІІ ступенів №82 Львівської міської ради Львівської області\n",
      "\n",
      "Львівська загальноосвітня школа І-ІІІ ступенів №43 Львівської міської ради Львівської області | Львівська загальноосвітня школа І-ІІІ ступенів №43 Львівської міської ради Львівської області\n",
      "\n",
      "Львівська загальноосвітня школа І-ІІІ ступенів №74 Львівської міської ради Львівської області | Львівська загальноосвітня школа І-ІІІ ступенів №74 Львівської міської ради Львівської області\n",
      "\n",
      "Львівська лінгвістична гімназія | Львівська лінгвістична гімназія Львівської міської ради Львівської області\n",
      "\n",
      "Львівська правнича гімназія | Львівська правнича гімназія\n",
      "\n",
      "Львівська середня загальноосвітня школа I-III №7 Львівської міської ради | Львівська середня загальноосвітня школа І-ІІІ ступенів №7 Львівської міської ради\n",
      "\n",
      "Львівська середня загальноосвітня школа I-III ступенів №71 Львівської міської ради Львівської області | Львівська загальноосвітня школа І-ІІІ ступенів №43 Львівської міської ради Львівської області\n",
      "\n",
      "Львівська середня загальноосвітня школа І-ІІІ ступенів №44 імені Т. Г. Шевченка | Львівська середня загальноосвітня школа І-ІІІ ступенів №44 ім. Т. Г. Шевченка\n",
      "\n",
      "Львівська середня загальноосвітня школа східних мов та бойових мистецтв «Будокан» з поглибленим вивченням іноземних мов | Львівська середня загальноосвітня школа східних мов та східних бойових мистецтв \"Будокан\" з поглибленим вивченням іноземних мов\n",
      "\n",
      "Львівська українська гімназія ім. Олени Степанів з поглибленим вивченням українознавства та англійської мови  | Львівська українська гуманітарна гімназія ім. Олени Степанів з поглибленим вивченням українознавства та англійської мови\n",
      "\n",
      "Львівський фізико-математичний ліцей-інтернат при Львівському національному університеті ім. Івана Франка | Львівський фізико-математичний ліцей-інтернат при Львівському національному університеті імені Івана Франка\n",
      "\n",
      "Львівський художній ліцей при Львівській національній академії мистецтв | Львівський художній ліцей при Львівській національній академії мистецтв\n",
      "\n",
      "Навчально-виховний комплекс \"Інженерно-економічна школа-Львівський економічний ліцей\" | Навчально-виховний комплекс \"Інженерно-економічна школа-Львівський економічний ліцей\" Львіської міської ради\n",
      "\n",
      "Львівський навчально-виховний комплекс «Один, два, три» Львівської міської ради Львівської області | Навчально-виховний комплекс \"Інженерно-економічна школа-Львівський економічний ліцей\" Львіської міської ради\n",
      "\n",
      "Навчально-виховний комплекс «Школа І ступеня - Гімназія \"Гроно\"» м. Львова | Навчально-виховний комплекс \"Школа-садок \" \"Софія\" м. Львова\n",
      "\n",
      "Навчально-виховний комплекс \"Школа компютерних технологій-Львівський технологічний ліцей\" | Навчально-виховний комплекс \"Школа комп'ютерних технологій - Львівський технологічний ліцей\"\n",
      "\n",
      "Навчально-виховний комплекс «Школа-гімназія \"Галицька\"» | Навчально-виховний комплекс \"Школа-садок \" \"Софія\" м. Львова\n",
      "\n",
      "Навчально-виховний комплекс \"Школа-гімназія І-ІІІ ступенів блаженних Климентія та Андрея Шептицьких\" | Навчально-виховний комплекс \"Школа-гімназія І-ІІІ ступенів Блаженного Климентія та Андрея Шептицьких\"\n",
      "\n",
      "Навчально-виховний комплекс «Школа-ліцей \"Європейський\"» | Навчально-виховний комплекс \"Школа комп'ютерних технологій - Львівський технологічний ліцей\"\n",
      "\n",
      "Навчально-виховний комплекс «Школа-ліцей \"Оріяна\"» м. Львова | Навчально-виховний комплекс \"Школа-садок \" \"Софія\" м. Львова\n",
      "\n",
      "Львівський навчально-виховний комплекс садок-школа «Дзвіночок» Львівської міської ради Львівської області | Навчально-виховний комплекс \"Інженерно-економічна школа-Львівський економічний ліцей\" Львіської міської ради\n",
      "\n",
      "Львівський навчально-виховний комплекс садок-школа «Малюк» Львівської міської ради Львівської області | Навчально-виховний комплекс \"Інженерно-економічна школа-Львівський економічний ліцей\" Львіської міської ради\n",
      "\n",
      "Львівський навчально-виховний комплекс школа-садок «Арніка» | Навчально-виховний комплекс \"Школа-садок \" \"Софія\" м. Львова\n",
      "\n",
      "Початкова школа «Джерельце» Львівської міської ради | Ліцей \"Львівський\" Львівської міської ради\n",
      "\n",
      "Початкова школа «Дивосвіт» Львівської міської ради | Ліцей \"Львівський\" Львівської міської ради\n",
      "\n",
      "Початкова школа «Первоцвіт» Львівської міської ради | Ліцей \"Львівський\" Львівської міської ради\n",
      "\n",
      "Початкова школа «Світанок» Львівської міської ради | Ліцей \"Львівський\" Львівської міської ради\n",
      "\n",
      "Початкова школа «Школа радості» Львівської міської ради | Ліцей \"Львівський\" Львівської міської ради\n",
      "\n",
      "Початкова школа №4 Львівської міської ради | Ліцей \"Львівський\" Львівської міської ради\n",
      "\n",
      "Початкова школа №53 Львівської міської ради | Ліцей \"Львівський\" Львівської міської ради\n",
      "\n",
      "Середня загальноосвітня школа I-III ступенів №29 м. Львова | Середня загальноосвітня школа І-ІІІ ступенів №29 м. Львова\n",
      "\n",
      "Середня загальноосвітня школа I-III ступенів №47 м. Львова | Середня загальноосвітня школа І-ІІІ ступенів №47 м. Львова\n",
      "\n",
      "Середня загальноосвітня школа I-III ступенів №49 м. Львова | Середня загальноосвітня школа І-ІІІ ступенів №49 м. Львова\n",
      "\n",
      "Середня загальноосвітня школа I-III ступенів №50 м. Львова | Середня загальноосвітня школа І-ІІІ ступенів №50 м.Львова\n",
      "\n",
      "Середня загальноосвітня школа I-III ступенів №78 м. Львова | Середня загальноосвітня школа І-ІІІ ступенів №78 м.Львова\n",
      "\n",
      "Середня загальноосвітня школа №1 м. Львова | Середня загальноосвітня школа №1 м. Львова\n",
      "\n",
      "Ліцей №10 ім. св. Марії Магдалени | Середня загальноосвітня школа №10 м. Львова ім.святої Марії Магдалени\n",
      "\n",
      "Середня загальноосвітня школа №100 м. Львова | Середня загальноосвітня школа №1 м. Львова\n",
      "\n",
      "Середня загальноосвітня школа №13 | Середня загальноосвітня школа №13\n",
      "\n",
      "Середня загальноосвітня школа №22 імені В. Стефаника м. Львова | Середня загальноосвітня школа №22 ім. В. Стефаника\n",
      "\n",
      "Середня загальноосвітня школа №23 | Середня загальноосвітня школа №23 м.Львова\n",
      "\n",
      "Середня загальноосвітня школа №27 м. Львова імені героя Небесної Сотні Юрія Вербицького | Середня загальноосвітня школа №27 м.Львова імені героя Небесної Сотні Юрія Вербицького\n",
      "\n",
      "Середня загальноосвітня школа №30 | Середня загальноосвітня школа №30 м.Львова\n",
      "\n",
      "Середня загальноосвітня школа №32 | Середня загальноосвітня школа №32 м. Львова\n",
      "\n",
      "Середня загальноосвітня школа №33 м. Львова | Середня загальноосвітня школа №1 м. Львова\n",
      "\n",
      "Середня загальноосвітня школа №34 ім. М. Шашкевича м. Львова | Середня загальноосвітня школа №34 ім. М. Шашкевича м.Львова\n",
      "\n",
      "Середня загальноосвітня школа №40 м. Львова | Середня загальноосвітня школа №40 м. Львова\n",
      "\n",
      "Середня загальноосвітня школа №41 м. Львова | Середня загальноосвітня школа №41 м. Львова\n",
      "\n",
      "Середня загальноосвітня школа №42 м. Львова | Середня загальноосвітня школа №42 м. Львова\n",
      "\n",
      "Середня загальноосвітня школа №60 м. Львова | Середня загальноосвітня школа №60 м. Львова\n",
      "\n",
      "Середня загальноосвітня школа №62 | Середня загальноосвітня школа №62 м. Львова\n",
      "\n",
      "Середня загальноосвітня школа №63 м. Львова | Середня загальноосвітня школа №63 м.Львова\n",
      "\n",
      "Середня загальноосвітня школа №65 м. Львова | Середня загальноосвітня школа №65 м. Львова\n",
      "\n",
      "Середня загальноосвітня школа №67 м. Львова | Середня загальноосвітня школа №67 м. Львова\n",
      "\n",
      "Середня загальноосвітня школа №68 м. Львова | Середня загальноосвітня школа №68 м. Львова\n",
      "\n",
      "Середня загальноосвітня школа №70 м. Львова | Середня загальноосвітня школа №1 м. Львова\n",
      "\n",
      "Середня загальноосвітня школа №72 | Середня загальноосвітня школа №72\n",
      "\n",
      "Середня загальноосвітня школа №73 | Середня загальноосвітня школа №73\n",
      "\n",
      "Середня загальноосвітня школа №77 м. Львова | Середня загальноосвітня школа №1 м. Львова\n",
      "\n",
      "Середня загальноосвітня школа №84 імені Блаженної Йосафати Гордашевської | Середня загальноосвітня школа №84 імені Блаженної Йосафати Гордашевської\n",
      "\n",
      "Середня загальноосвітня школа №86 | Середня загальноосвітня школа №86\n",
      "\n",
      "Середня загальноосвітня школа №87 м. Львова | Середня загальноосвітня школа №1 м. Львова\n",
      "\n",
      "Середня загальноосвітня школа №9 | Середня загальноосвітня школа № 9 м. Львова\n",
      "\n",
      "Середня загальноосвітня школа №90 | Середня загальноосвітня школа №90 м. Львова\n",
      "\n",
      "Середня загальноосвітня школа №92 м. Львова | Середня загальноосвітня школа №1 м. Львова\n",
      "\n",
      "Середня загальноосвітня школа №95 | Середня загальноосвітня школа №95\n",
      "\n",
      "Середня загальноосвітня школа №96 | Середня загальноосвітня школа №96 МЖК-1\n",
      "\n",
      "Середня загальноосвітня школа №97 м. Львова | Середня загальноосвітня школа №1 м. Львова\n",
      "\n",
      "Середня загальноосвітня школа №98 м. Львова | Середня загальноосвітня школа №1 м. Львова\n",
      "\n",
      "Середня загальноосвітня школа №99 м. Львова | Середня загальноосвітня школа №99 м.Львова\n",
      "\n",
      "Ліцей №17 | Ліцей №17 Львівської міської ради\n",
      "\n",
      "Середня загальноосвітня школа І-ІІІ ступенів №20 м. Львова | Середня загальноосвітня школа І-ІІІ ступенів №20 м. Львова\n",
      "\n",
      "Середня загальноосвітня школа І-ІІІ ступенів №31 м. Львова | Середня загальноосвітня школа І-ІІІ ступенів №31 м.Львова\n",
      "\n",
      "Середня загальноосвітня школа І-ІІІ ступенів №36 м. Львова | Середня загальноосвітня школа І-ІІІ ступенів №36 м.Львова\n",
      "\n",
      "Середня загальноосвітня школа І-ІІІ ступенів №48 м. Львова | Середня загальноосвітня школа І-ІІІ ступенів №48 м. Львова\n",
      "\n",
      "Середня загальноосвітня школа І-ІІІ ступенів №55 м. Львова, що знаходиться у комунальній власності Львівської міської ради | Середня загальноосвітня школа І-ІІІ ступенів №55 м.Львова\n",
      "\n",
      "Ліцей №6 Львівської міської ради | Ліцей №6 Львівської міської ради\n",
      "\n",
      "Середня загальноосвітня школа І-ІІІ ступенів №91 м. Львова | Середня загальноосвітня школа І-ІІІ ступенів №20 м. Львова\n",
      "\n",
      "Середня спеціалізована загальноосвітня школа І-ІІІ ступеня №54 імені Квітки Цісик м. Львова | Середня загальноосвітня школа І-ІІІ ступеня №91 м.Львова\n",
      "\n"
     ]
    },
    {
     "data": {
      "text/plain": [
       "0       None\n",
       "57      None\n",
       "114     None\n",
       "115     None\n",
       "181     None\n",
       "        ... \n",
       "2346    None\n",
       "2347    None\n",
       "2462    None\n",
       "2463    None\n",
       "2473    None\n",
       "Length: 117, dtype: object"
      ]
     },
     "execution_count": 151,
     "metadata": {},
     "output_type": "execute_result"
    }
   ],
   "source": [
    "matched[['school_full_name', 'EONAME']].apply(lambda x: print(f\"{x['school_full_name']} | {x['EONAME']}\\n\"), axis=1)"
   ]
  },
  {
   "cell_type": "code",
   "execution_count": 160,
   "metadata": {
    "ExecuteTime": {
     "end_time": "2021-03-14T22:16:11.037439Z",
     "start_time": "2021-03-14T22:16:11.022910Z"
    }
   },
   "outputs": [
    {
     "name": "stdout",
     "output_type": "stream",
     "text": [
      "score: -0.07221390577018162 Гімназія «Провесінь» Львівської міської ради | Львівська лінгвістична гімназія Львівської міської ради Львівської області\n",
      "\n",
      "score: -0.07221390577018162 Гімназія «Тривіта» Львівської міської ради | Львівська лінгвістична гімназія Львівської міської ради Львівської області\n",
      "\n",
      "score: -0.2593436756080318 Ліцей ім. І. Пулюя | Ліцей імені Івана Пулюя Львівської міської ради\n",
      "\n",
      "score: -0.059748008888106253 Львівська середня загальноосвітня школа I-III ступенів №71 Львівської міської ради Львівської області | Львівська загальноосвітня школа І-ІІІ ступенів №43 Львівської міської ради Львівської області\n",
      "\n",
      "score: -0.37283634717370706 Львівський навчально-виховний комплекс «Один, два, три» Львівської міської ради Львівської області | Навчально-виховний комплекс \"Інженерно-економічна школа-Львівський економічний ліцей\" Львіської міської ради\n",
      "\n",
      "score: -0.1362771105196032 Навчально-виховний комплекс «Школа І ступеня - Гімназія \"Гроно\"» м. Львова | Навчально-виховний комплекс \"Школа-садок \" \"Софія\" м. Львова\n",
      "\n",
      "score: -0.18190431655673178 Навчально-виховний комплекс «Школа-гімназія \"Галицька\"» | Навчально-виховний комплекс \"Школа-садок \" \"Софія\" м. Львова\n",
      "\n",
      "score: -0.14787661142883274 Навчально-виховний комплекс «Школа-ліцей \"Європейський\"» | Навчально-виховний комплекс \"Школа комп'ютерних технологій - Львівський технологічний ліцей\"\n",
      "\n",
      "score: -0.18631751023193457 Львівський навчально-виховний комплекс садок-школа «Дзвіночок» Львівської міської ради Львівської області | Навчально-виховний комплекс \"Інженерно-економічна школа-Львівський економічний ліцей\" Львіської міської ради\n",
      "\n",
      "score: -0.18631751023193457 Львівський навчально-виховний комплекс садок-школа «Малюк» Львівської міської ради Львівської області | Навчально-виховний комплекс \"Інженерно-економічна школа-Львівський економічний ліцей\" Львіської міської ради\n",
      "\n",
      "score: -0.17520157797844224 Початкова школа «Джерельце» Львівської міської ради | Ліцей \"Львівський\" Львівської міської ради\n",
      "\n",
      "score: -0.17520157797844224 Початкова школа «Дивосвіт» Львівської міської ради | Ліцей \"Львівський\" Львівської міської ради\n",
      "\n",
      "score: -0.17520157797844224 Початкова школа «Первоцвіт» Львівської міської ради | Ліцей \"Львівський\" Львівської міської ради\n",
      "\n",
      "score: -0.17520157797844224 Початкова школа «Світанок» Львівської міської ради | Ліцей \"Львівський\" Львівської міської ради\n",
      "\n",
      "score: -0.17520157797844224 Початкова школа «Школа радості» Львівської міської ради | Ліцей \"Львівський\" Львівської міської ради\n",
      "\n",
      "score: -0.17520157797844224 Початкова школа №4 Львівської міської ради | Ліцей \"Львівський\" Львівської міської ради\n",
      "\n",
      "score: -0.17520157797844224 Початкова школа №53 Львівської міської ради | Ліцей \"Львівський\" Львівської міської ради\n",
      "\n",
      "score: -0.10488690983125652 Ліцей №10 ім. св. Марії Магдалени | Середня загальноосвітня школа №10 м. Львова ім.святої Марії Магдалени\n",
      "\n",
      "score: -0.11973799749718693 Середня загальноосвітня школа І-ІІІ ступенів №55 м. Львова, що знаходиться у комунальній власності Львівської міської ради | Середня загальноосвітня школа І-ІІІ ступенів №55 м.Львова\n",
      "\n",
      "score: -0.12004746987583031 Середня спеціалізована загальноосвітня школа І-ІІІ ступеня №54 імені Квітки Цісик м. Львова | Середня загальноосвітня школа І-ІІІ ступеня №91 м.Львова\n",
      "\n"
     ]
    },
    {
     "data": {
      "text/plain": [
       "0       None\n",
       "57      None\n",
       "521     None\n",
       "606     None\n",
       "735     None\n",
       "802     None\n",
       "883     None\n",
       "945     None\n",
       "1071    None\n",
       "1177    None\n",
       "1333    None\n",
       "1423    None\n",
       "1513    None\n",
       "1603    None\n",
       "1693    None\n",
       "1783    None\n",
       "1873    None\n",
       "1969    None\n",
       "2347    None\n",
       "2473    None\n",
       "dtype: object"
      ]
     },
     "execution_count": 160,
     "metadata": {},
     "output_type": "execute_result"
    }
   ],
   "source": [
    "matched[matched.best_match_score < -0.05].apply(\n",
    "    lambda x: print(f\"score: {x['best_match_score']} {x['school_full_name']} | {x['EONAME']}\\n\"), axis=1)"
   ]
  },
  {
   "cell_type": "code",
   "execution_count": 216,
   "metadata": {
    "ExecuteTime": {
     "end_time": "2021-03-14T22:34:37.645091Z",
     "start_time": "2021-03-14T22:34:37.530383Z"
    }
   },
   "outputs": [],
   "source": [
    "matched[[\"best_match_score\", 'school_short_name', 'school_full_name', 'school_old_name', 'EONAME']].to_clipboard()"
   ]
  },
  {
   "cell_type": "code",
   "execution_count": 162,
   "metadata": {
    "ExecuteTime": {
     "end_time": "2021-03-14T22:16:39.499903Z",
     "start_time": "2021-03-14T22:16:39.482910Z"
    }
   },
   "outputs": [],
   "source": [
    "matched.to_csv(\"matched_badly.csv\", index=False)"
   ]
  },
  {
   "cell_type": "code",
   "execution_count": 171,
   "metadata": {
    "ExecuteTime": {
     "end_time": "2021-03-14T22:24:17.057909Z",
     "start_time": "2021-03-14T22:24:17.044969Z"
    }
   },
   "outputs": [],
   "source": [
    "class_size = lviv_data_2020.groupby([\"EONAME\", \"ClassProfileNAME\"], as_index=False)['OUTID'].count()"
   ]
  },
  {
   "cell_type": "code",
   "execution_count": 208,
   "metadata": {
    "ExecuteTime": {
     "end_time": "2021-03-14T22:32:24.589239Z",
     "start_time": "2021-03-14T22:32:24.585346Z"
    }
   },
   "outputs": [],
   "source": [
    "def transform(group):\n",
    "    maths = group.loc[group.mathBall100 > 180]\n",
    "    return len(maths)"
   ]
  },
  {
   "cell_type": "code",
   "execution_count": 209,
   "metadata": {
    "ExecuteTime": {
     "end_time": "2021-03-14T22:32:24.941331Z",
     "start_time": "2021-03-14T22:32:24.824143Z"
    }
   },
   "outputs": [],
   "source": [
    "t = lviv_data_2020.groupby([\"EONAME\", \"ClassProfileNAME\"]).apply(lambda x: transform(x)).reset_index()"
   ]
  },
  {
   "cell_type": "code",
   "execution_count": 210,
   "metadata": {
    "ExecuteTime": {
     "end_time": "2021-03-14T22:32:25.114191Z",
     "start_time": "2021-03-14T22:32:25.096131Z"
    }
   },
   "outputs": [
    {
     "data": {
      "text/html": [
       "<div>\n",
       "<style scoped>\n",
       "    .dataframe tbody tr th:only-of-type {\n",
       "        vertical-align: middle;\n",
       "    }\n",
       "\n",
       "    .dataframe tbody tr th {\n",
       "        vertical-align: top;\n",
       "    }\n",
       "\n",
       "    .dataframe thead th {\n",
       "        text-align: right;\n",
       "    }\n",
       "</style>\n",
       "<table border=\"1\" class=\"dataframe\">\n",
       "  <thead>\n",
       "    <tr style=\"text-align: right;\">\n",
       "      <th></th>\n",
       "      <th>EONAME</th>\n",
       "      <th>ClassProfileNAME</th>\n",
       "      <th>0</th>\n",
       "    </tr>\n",
       "  </thead>\n",
       "  <tbody>\n",
       "    <tr>\n",
       "      <th>35</th>\n",
       "      <td>Львівська академічна гімназія при Національном...</td>\n",
       "      <td>Математичний</td>\n",
       "      <td>26</td>\n",
       "    </tr>\n",
       "    <tr>\n",
       "      <th>36</th>\n",
       "      <td>Львівська академічна гімназія при Національном...</td>\n",
       "      <td>Універсальний</td>\n",
       "      <td>11</td>\n",
       "    </tr>\n",
       "    <tr>\n",
       "      <th>38</th>\n",
       "      <td>Львівська гімназія \"Євшан\"</td>\n",
       "      <td>Математичний</td>\n",
       "      <td>15</td>\n",
       "    </tr>\n",
       "    <tr>\n",
       "      <th>39</th>\n",
       "      <td>Львівська гімназія \"Престиж\" з поглибленим вив...</td>\n",
       "      <td>Іноземної філології</td>\n",
       "      <td>17</td>\n",
       "    </tr>\n",
       "    <tr>\n",
       "      <th>45</th>\n",
       "      <td>Львівська лінгвістична гімназія Львівської міс...</td>\n",
       "      <td>Іноземної філології</td>\n",
       "      <td>14</td>\n",
       "    </tr>\n",
       "    <tr>\n",
       "      <th>61</th>\n",
       "      <td>Львівський фізико-математичний ліцей-інтернат ...</td>\n",
       "      <td>Біолого-хімічний</td>\n",
       "      <td>18</td>\n",
       "    </tr>\n",
       "    <tr>\n",
       "      <th>62</th>\n",
       "      <td>Львівський фізико-математичний ліцей-інтернат ...</td>\n",
       "      <td>Фізико-математичний</td>\n",
       "      <td>109</td>\n",
       "    </tr>\n",
       "    <tr>\n",
       "      <th>91</th>\n",
       "      <td>Ліцей №28 Львівської міської ради</td>\n",
       "      <td>Іноземної філології</td>\n",
       "      <td>12</td>\n",
       "    </tr>\n",
       "    <tr>\n",
       "      <th>98</th>\n",
       "      <td>Ліцей №52 ім. М. Лобачевського Львівської місь...</td>\n",
       "      <td>Математичний</td>\n",
       "      <td>16</td>\n",
       "    </tr>\n",
       "    <tr>\n",
       "      <th>106</th>\n",
       "      <td>Ліцей №81 ім.Петра Сагайдачного Львівської міс...</td>\n",
       "      <td>Іноземної філології</td>\n",
       "      <td>12</td>\n",
       "    </tr>\n",
       "  </tbody>\n",
       "</table>\n",
       "</div>"
      ],
      "text/plain": [
       "                                                EONAME     ClassProfileNAME  \\\n",
       "35   Львівська академічна гімназія при Національном...         Математичний   \n",
       "36   Львівська академічна гімназія при Національном...        Універсальний   \n",
       "38                          Львівська гімназія \"Євшан\"         Математичний   \n",
       "39   Львівська гімназія \"Престиж\" з поглибленим вив...  Іноземної філології   \n",
       "45   Львівська лінгвістична гімназія Львівської міс...  Іноземної філології   \n",
       "61   Львівський фізико-математичний ліцей-інтернат ...     Біолого-хімічний   \n",
       "62   Львівський фізико-математичний ліцей-інтернат ...  Фізико-математичний   \n",
       "91                   Ліцей №28 Львівської міської ради  Іноземної філології   \n",
       "98   Ліцей №52 ім. М. Лобачевського Львівської місь...         Математичний   \n",
       "106  Ліцей №81 ім.Петра Сагайдачного Львівської міс...  Іноземної філології   \n",
       "\n",
       "       0  \n",
       "35    26  \n",
       "36    11  \n",
       "38    15  \n",
       "39    17  \n",
       "45    14  \n",
       "61    18  \n",
       "62   109  \n",
       "91    12  \n",
       "98    16  \n",
       "106   12  "
      ]
     },
     "execution_count": 210,
     "metadata": {},
     "output_type": "execute_result"
    }
   ],
   "source": [
    "t[t[0] > 10]"
   ]
  },
  {
   "cell_type": "code",
   "execution_count": null,
   "metadata": {},
   "outputs": [],
   "source": []
  }
 ],
 "metadata": {
  "kernelspec": {
   "display_name": "Python 3",
   "language": "python",
   "name": "python3"
  },
  "language_info": {
   "codemirror_mode": {
    "name": "ipython",
    "version": 3
   },
   "file_extension": ".py",
   "mimetype": "text/x-python",
   "name": "python",
   "nbconvert_exporter": "python",
   "pygments_lexer": "ipython3",
   "version": "3.8.5"
  },
  "toc": {
   "base_numbering": 1,
   "nav_menu": {},
   "number_sections": true,
   "sideBar": true,
   "skip_h1_title": false,
   "title_cell": "Table of Contents",
   "title_sidebar": "Contents",
   "toc_cell": false,
   "toc_position": {},
   "toc_section_display": true,
   "toc_window_display": false
  }
 },
 "nbformat": 4,
 "nbformat_minor": 4
}
